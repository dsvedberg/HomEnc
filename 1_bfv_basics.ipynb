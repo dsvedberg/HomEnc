{
 "cells": [
  {
   "cell_type": "markdown",
   "metadata": {},
   "source": [
    "# BFV basics Seal example"
   ]
  },
  {
   "cell_type": "code",
   "execution_count": 1,
   "metadata": {},
   "outputs": [],
   "source": [
    "import tenseal.sealapi as seal\n",
    "import math\n",
    "\n",
    "import util"
   ]
  },
  {
   "cell_type": "markdown",
   "metadata": {},
   "source": [
    "In this example, we demonstrate performing simple computations (a polynomial \n",
    "evaluation) on encrypted integers using the BFV encryption scheme.\n",
    "The first task is to set up an instance of the `EncryptionParameters` class.\n",
    "It is critical to understand how the different parameters behave, how they\n",
    "affect the encryption scheme, performance, and the security level. There are\n",
    "three encryption parameters that are necessary to set:\n",
    "\n",
    "* poly_modulus_degree (degree of polynomial modulus);\n",
    "* coeff_modulus ([ciphertext] coefficient modulus);\n",
    "* plain_modulus (plaintext modulus; only for the BFV scheme).\n",
    "\n",
    "The BFV scheme cannot perform arbitrary computations on encrypted data.\n",
    "Instead, each ciphertext has a specific quantity called the 'invariant noise\n",
    "budget' -- or 'noise budget' for short -- measured in bits. The noise budget\n",
    "in a freshly encrypted ciphertext (initial noise budget) is determined by\n",
    "the encryption parameters. Homomorphic operations consume the noise budget\n",
    "at a rate also determined by the encryption parameters. In BFV the two basic\n",
    "operations allowed on encrypted data are additions and multiplications, of\n",
    "which additions can generally be thought of as being nearly free in terms of\n",
    "noise budget consumption compared to multiplications. Since noise budget\n",
    "consumption compounds in sequential multiplications, the most significant\n",
    "factor in choosing appropriate encryption parameters is the multiplicative\n",
    "depth of the arithmetic circuit that the user wants to evaluate on encrypted\n",
    "data. Once the noise budget of a ciphertext reaches zero it becomes too\n",
    "corrupted to be decrypted. Thus, it is essential to choose the parameters to\n",
    "be large enough to support the desired computation; otherwise the result is\n",
    "impossible to make sense of even with the secret key."
   ]
  },
  {
   "cell_type": "code",
   "execution_count": 2,
   "metadata": {},
   "outputs": [],
   "source": [
    "parms = seal.EncryptionParameters(seal.SCHEME_TYPE.BFV)"
   ]
  },
  {
   "cell_type": "markdown",
   "metadata": {},
   "source": [
    "The first parameter we set is the degree of the 'polynomial modulus'. This\n",
    "must be a positive power of 2, representing the degree of a power-of-two\n",
    "cyclotomic polynomial; it is not necessary to understand what this means.\n",
    "Larger poly_modulus_degree makes ciphertext sizes larger and all operations\n",
    "slower, but enables more complicated encrypted computations. Recommended\n",
    "values are 1024, 2048, 4096, 8192, 16384, 32768, but it is also possible\n",
    "to go beyond this range.\n",
    "\n",
    "In this example we use a relatively small polynomial modulus. Anything\n",
    "smaller than this will enable only very restricted encrypted computations."
   ]
  },
  {
   "cell_type": "code",
   "execution_count": 3,
   "metadata": {},
   "outputs": [],
   "source": [
    "poly_modulus_degree = 4096\n",
    "parms.set_poly_modulus_degree(poly_modulus_degree)"
   ]
  },
  {
   "cell_type": "markdown",
   "metadata": {},
   "source": [
    "Next we set the [ciphertext] 'coefficient modulus' (`coeff_modulus`). This\n",
    "parameter is a large integer, which is a product of distinct prime numbers,\n",
    "each up to 60 bits in size. It is represented as a vector of these prime\n",
    "numbers, each represented by an instance of the `Modulus` class. The\n",
    "bit-length of `coeff_modulus` means the sum of the bit-lengths of its prime\n",
    "factors.\n",
    "\n",
    "A larger `coeff_modulus` implies a larger noise budget, hence more encrypted\n",
    "computation capabilities. However, an upper bound for the total bit-length\n",
    "of the `coeff_modulus` is determined by the `poly_modulus_degree`, as follows:\n",
    "\n",
    "    +----------------------------------------------------+\n",
    "    | poly_modulus_degree | max coeff_modulus bit-length |\n",
    "    +---------------------+------------------------------+\n",
    "    | 1024                | 27                           |\n",
    "    | 2048                | 54                           |\n",
    "    | 4096                | 109                          |\n",
    "    | 8192                | 218                          |\n",
    "    | 16384               | 438                          |\n",
    "    | 32768               | 881                          |\n",
    "    +---------------------+------------------------------+\n",
    "\n",
    "These numbers can also be found in `native/src/seal/util/hestdparms.h` encoded\n",
    "in the function `SEAL_HE_STD_PARMS_128_TC`, and can also be obtained from the\n",
    "function\n",
    "\n",
    "    CoeffModulus::MaxBitCount(poly_modulus_degree).\n",
    "\n",
    "For example, if `poly_modulus_degree` is 4096, the coeff_modulus could consist\n",
    "of three 36-bit primes (108 bits).\n",
    "\n",
    "Microsoft SEAL comes with helper functions for selecting the `coeff_modulus`.\n",
    "For new users the easiest way is to simply use\n",
    "\n",
    "    CoeffModulus::BFVDefault(poly_modulus_degree),\n",
    "\n",
    "which returns `std::vector<Modulus>` consisting of a generally good choice\n",
    "for the given `poly_modulus_degree`."
   ]
  },
  {
   "cell_type": "code",
   "execution_count": 4,
   "metadata": {},
   "outputs": [],
   "source": [
    "parms.set_coeff_modulus(seal.CoeffModulus.BFVDefault(poly_modulus_degree, seal.SEC_LEVEL_TYPE.TC128))"
   ]
  },
  {
   "cell_type": "markdown",
   "metadata": {},
   "source": [
    "The plaintext modulus can be any positive integer, even though here we take\n",
    "it to be a power of two. In fact, in many cases one might instead want it\n",
    "to be a prime number; we will see this in later examples. The plaintext\n",
    "modulus determines the size of the plaintext data type and the consumption\n",
    "of noise budget in multiplications. Thus, it is essential to try to keep the\n",
    "plaintext data type as small as possible for best performance. The noise\n",
    "budget in a freshly encrypted ciphertext is\n",
    "\n",
    "    ~ log2(coeff_modulus/plain_modulus) (bits)\n",
    "\n",
    "and the noise budget consumption in a homomorphic multiplication is of the\n",
    "form `log2(plain_modulus) + (other terms)`.\n",
    "\n",
    "The plaintext modulus is specific to the BFV scheme, and cannot be set when\n",
    "using the CKKS scheme."
   ]
  },
  {
   "cell_type": "code",
   "execution_count": 5,
   "metadata": {},
   "outputs": [],
   "source": [
    "parms.set_plain_modulus(1024)"
   ]
  },
  {
   "cell_type": "markdown",
   "metadata": {},
   "source": [
    "Now that all parameters are set, we are ready to construct a `SEALContext`\n",
    "object. This is a heavy class that checks the validity and properties of the\n",
    "parameters we just set.\n",
    "\n",
    "*N.B.: Python SEALContext takes two additional parameters compared to the C++ example (which have defaults in C++). The default values are `True` and `SEC_LEVEL_TYPE.TC128`, see `native/src/seal/context.h`. (Roland Hostettler, 2022-08-18)*"
   ]
  },
  {
   "cell_type": "code",
   "execution_count": 6,
   "metadata": {},
   "outputs": [],
   "source": [
    "context = seal.SEALContext(parms, True, seal.SEC_LEVEL_TYPE.TC128)"
   ]
  },
  {
   "cell_type": "markdown",
   "metadata": {},
   "source": [
    "Print the parameters that we have chosen."
   ]
  },
  {
   "cell_type": "code",
   "execution_count": 7,
   "metadata": {},
   "outputs": [],
   "source": [
    "# cout << \"Set encryption parameters and print\" << endl;\n",
    "# print_parameters(context);"
   ]
  },
  {
   "cell_type": "markdown",
   "metadata": {},
   "source": [
    "When parameters are used to create `SEALContext`, Microsoft SEAL will first\n",
    "validate those parameters. The parameters chosen here are valid."
   ]
  },
  {
   "cell_type": "code",
   "execution_count": 8,
   "metadata": {},
   "outputs": [
    {
     "name": "stdout",
     "output_type": "stream",
     "text": [
      "Parameter validation: valid\n"
     ]
    }
   ],
   "source": [
    "print('Parameter validation: ' + context.parameters_error_message())"
   ]
  },
  {
   "cell_type": "markdown",
   "metadata": {},
   "source": [
    "## A naive way to calculate 4(x^2+1)(x+1)^2\n",
    "The encryption schemes in Microsoft SEAL are public key encryption schemes.\n",
    "For users unfamiliar with this terminology, a public key encryption scheme\n",
    "has a separate public key for encrypting data, and a separate secret key for\n",
    "decrypting data. This way multiple parties can encrypt data using the same\n",
    "shared public key, but only the proper recipient of the data can decrypt it\n",
    "with the secret key.\n",
    "\n",
    "We are now ready to generate the secret and public keys. For this purpose\n",
    "we need an instance of the `KeyGenerator` class. Constructing a `KeyGenerator`\n",
    "automatically generates a secret key. We can then create as many public\n",
    "keys for it as we want using `KeyGenerator::create_public_key`.\n",
    "Note that `KeyGenerator::create_public_key` has another overload that takes\n",
    "no parameters and returns a `Serializable<PublicKey>` object. We will discuss\n",
    "this in `6_serialization.cpp`."
   ]
  },
  {
   "cell_type": "code",
   "execution_count": 9,
   "metadata": {},
   "outputs": [],
   "source": [
    "keygen = seal.KeyGenerator(context)\n",
    "secret_key = keygen.secret_key()\n",
    "\n",
    "public_key = seal.PublicKey()\n",
    "keygen.create_public_key(public_key)"
   ]
  },
  {
   "cell_type": "markdown",
   "metadata": {},
   "source": [
    "To be able to encrypt we need to construct an instance of `Encryptor`. Note\n",
    "that the `Encryptor` only requires the public key, as expected. It is also\n",
    "possible to use Microsoft SEAL in secret-key mode by providing the `Encryptor`\n",
    "the secret key instead. We will discuss this in `6_serialization.cpp`."
   ]
  },
  {
   "cell_type": "code",
   "execution_count": 10,
   "metadata": {},
   "outputs": [],
   "source": [
    "encryptor = seal.Encryptor(context, public_key)"
   ]
  },
  {
   "cell_type": "markdown",
   "metadata": {},
   "source": [
    "Computations on the ciphertexts are performed with the `Evaluator` class. In\n",
    "a real use-case the `Evaluator` would not be constructed by the same party\n",
    "that holds the secret key."
   ]
  },
  {
   "cell_type": "code",
   "execution_count": 11,
   "metadata": {},
   "outputs": [],
   "source": [
    "evaluator = seal.Evaluator(context)"
   ]
  },
  {
   "cell_type": "markdown",
   "metadata": {},
   "source": [
    "We will of course want to decrypt our results to verify that everything worked,\n",
    "so we need to also construct an instance of `Decryptor`. Note that the `Decryptor`\n",
    "requires the secret key."
   ]
  },
  {
   "cell_type": "code",
   "execution_count": 12,
   "metadata": {},
   "outputs": [],
   "source": [
    "decryptor = seal.Decryptor(context, secret_key)"
   ]
  },
  {
   "cell_type": "markdown",
   "metadata": {},
   "source": [
    "As an example, we evaluate the degree 4 polynomial\n",
    "\n",
    "     4x^4 + 8x^3 + 8x^2 + 8x + 4\n",
    "\n",
    "over an encrypted x = 6. The coefficients of the polynomial can be considered\n",
    "as plaintext inputs, as we will see below. The computation is done modulo the\n",
    "`plain_modulus` 1024.\n",
    "\n",
    "While this examples is simple and easy to understand, it does not have much\n",
    "practical value. In later examples we will demonstrate how to compute more\n",
    "efficiently on encrypted integers and real or complex numbers.\n",
    "\n",
    "Plaintexts in the BFV scheme are polynomials of degree less than the degree\n",
    "of the polynomial modulus, and coefficients integers modulo the plaintext\n",
    "modulus. For readers with background in ring theory, the plaintext space is\n",
    "the polynomial quotient ring Z_T[X]/(X^N + 1), where N is `poly_modulus_degree`\n",
    "and T is plain_modulus.\n",
    "\n",
    "To get started, we create a plaintext containing the constant 6. For the\n",
    "plaintext element we use a constructor that takes the desired polynomial as\n",
    "a string with coefficients represented as hexadecimal numbers."
   ]
  },
  {
   "cell_type": "code",
   "execution_count": 13,
   "metadata": {},
   "outputs": [
    {
     "name": "stdout",
     "output_type": "stream",
     "text": [
      "Express x = 6 as a plaintext polynomial 0x6.\n"
     ]
    }
   ],
   "source": [
    "x = 6\n",
    "x_plain = seal.Plaintext(util.uint_to_hex_string(x))\n",
    "print('Express x = ' + str(x) + ' as a plaintext polynomial 0x' + x_plain.to_string() + '.')"
   ]
  },
  {
   "cell_type": "markdown",
   "metadata": {},
   "source": [
    "We then encrypt the plaintext, producing a ciphertext. We note that the\n",
    "`Encryptor::encrypt` function has another overload that takes as input only\n",
    "a plaintext and returns a `Serializable<Ciphertext>` object. We will discuss\n",
    "this in `6_serialization.cpp`."
   ]
  },
  {
   "cell_type": "code",
   "execution_count": 14,
   "metadata": {},
   "outputs": [],
   "source": [
    "x_encrypted = seal.Ciphertext()\n",
    "encryptor.encrypt(x_plain, x_encrypted)"
   ]
  },
  {
   "cell_type": "markdown",
   "metadata": {},
   "source": [
    "In Microsoft SEAL, a valid ciphertext consists of two or more polynomials\n",
    "whose coefficients are integers modulo the product of the primes in the\n",
    "coeff_modulus. The number of polynomials in a ciphertext is called its `size`\n",
    "and is given by `Ciphertext::size()`. A freshly encrypted ciphertext always\n",
    "has size 2."
   ]
  },
  {
   "cell_type": "code",
   "execution_count": 15,
   "metadata": {},
   "outputs": [
    {
     "name": "stdout",
     "output_type": "stream",
     "text": [
      "Size of freshly encrypted x: 2\n"
     ]
    }
   ],
   "source": [
    "print('Size of freshly encrypted x: ' + str(x_encrypted.size()))"
   ]
  },
  {
   "cell_type": "markdown",
   "metadata": {},
   "source": [
    "There is plenty of noise budget left in this freshly encrypted ciphertext."
   ]
  },
  {
   "cell_type": "code",
   "execution_count": 16,
   "metadata": {},
   "outputs": [
    {
     "name": "stdout",
     "output_type": "stream",
     "text": [
      "Noise budget in freshly encrypted x: 55 bits\n"
     ]
    }
   ],
   "source": [
    "print('Noise budget in freshly encrypted x: ' + str(decryptor.invariant_noise_budget(x_encrypted)) + ' bits')"
   ]
  },
  {
   "cell_type": "markdown",
   "metadata": {},
   "source": [
    "We decrypt the ciphertext and print the resulting plaintext in order to\n",
    "demonstrate correctness of the encryption."
   ]
  },
  {
   "cell_type": "code",
   "execution_count": 17,
   "metadata": {},
   "outputs": [
    {
     "name": "stdout",
     "output_type": "stream",
     "text": [
      "Decryption of x_encrypted: 0x6\n"
     ]
    }
   ],
   "source": [
    "\n",
    "x_decrypted = seal.Plaintext()\n",
    "decryptor.decrypt(x_encrypted, x_decrypted)\n",
    "print('Decryption of x_encrypted: 0x' + x_decrypted.to_string())"
   ]
  },
  {
   "cell_type": "markdown",
   "metadata": {},
   "source": [
    "When using Microsoft SEAL, it is typically advantageous to compute in a way\n",
    "that minimizes the longest chain of sequential multiplications. In other\n",
    "words, encrypted computations are best evaluated in a way that minimizes\n",
    "the multiplicative depth of the computation, because the total noise budget\n",
    "consumption is proportional to the multiplicative depth. For example, for\n",
    "our example computation it is advantageous to factorize the polynomial as\n",
    "\n",
    "     4x^4 + 8x^3 + 8x^2 + 8x + 4 = 4(x + 1)^2 * (x^2 + 1)\n",
    "\n",
    "to obtain a simple depth 2 representation. Thus, we compute `(x + 1)^2` and\n",
    "`(x^2 + 1)` separately, before multiplying them, and multiplying by 4.\n",
    "First, we compute x^2 and add a plaintext \"1\". We can clearly see from the\n",
    "print-out that multiplication has consumed a lot of noise budget. The user\n",
    "can vary the plain_modulus parameter to see its effect on the rate of noise\n",
    "budget consumption."
   ]
  },
  {
   "cell_type": "code",
   "execution_count": 18,
   "metadata": {},
   "outputs": [],
   "source": [
    "x_sq_plus_one = seal.Ciphertext()\n",
    "evaluator.square(x_encrypted, x_sq_plus_one)\n",
    "plain_one = seal.Plaintext(\"1\")\n",
    "evaluator.add_plain_inplace(x_sq_plus_one, plain_one)"
   ]
  },
  {
   "cell_type": "markdown",
   "metadata": {},
   "source": [
    "Encrypted multiplication results in the output ciphertext growing in size.\n",
    "More precisely, if the input ciphertexts have size M and N, then the output\n",
    "ciphertext after homomorphic multiplication will have size M+N-1. In this\n",
    "case we perform a squaring, and observe both size growth and noise budget\n",
    "consumption."
   ]
  },
  {
   "cell_type": "code",
   "execution_count": 19,
   "metadata": {},
   "outputs": [
    {
     "name": "stdout",
     "output_type": "stream",
     "text": [
      "Size of x_sq_plus_one: 3\n",
      "Noise budget in x_sq_plus_one: 33 bits\n"
     ]
    }
   ],
   "source": [
    "print('Size of x_sq_plus_one: ' + str(x_sq_plus_one.size()))\n",
    "print('Noise budget in x_sq_plus_one: ' + str(decryptor.invariant_noise_budget(x_sq_plus_one)) + ' bits')"
   ]
  },
  {
   "cell_type": "markdown",
   "metadata": {},
   "source": [
    "Even though the size has grown, decryption works as usual as long as noise\n",
    "budget has not reached 0."
   ]
  },
  {
   "cell_type": "code",
   "execution_count": 20,
   "metadata": {},
   "outputs": [
    {
     "name": "stdout",
     "output_type": "stream",
     "text": [
      "Decryption of x_sq_plus_one: 0x25\n"
     ]
    }
   ],
   "source": [
    "decrypted_result = seal.Plaintext()\n",
    "decryptor.decrypt(x_sq_plus_one, decrypted_result)\n",
    "print('Decryption of x_sq_plus_one: 0x' + decrypted_result.to_string())"
   ]
  },
  {
   "cell_type": "markdown",
   "metadata": {},
   "source": [
    "Next, we compute (x + 1)^2."
   ]
  },
  {
   "cell_type": "code",
   "execution_count": 21,
   "metadata": {},
   "outputs": [
    {
     "name": "stdout",
     "output_type": "stream",
     "text": [
      "Size of x_plus_one_sq: 3\n",
      "Noise budget in x_plus_one_sq: 33 bits\n",
      "Decryption of x_plus_one_sq: 0x31\n"
     ]
    }
   ],
   "source": [
    "x_plus_one_sq = seal.Ciphertext()\n",
    "evaluator.add_plain(x_encrypted, plain_one, x_plus_one_sq)\n",
    "evaluator.square_inplace(x_plus_one_sq)\n",
    "print('Size of x_plus_one_sq: ' + str(x_plus_one_sq.size()))\n",
    "print('Noise budget in x_plus_one_sq: ' + str(decryptor.invariant_noise_budget(x_plus_one_sq)) + ' bits')\n",
    "\n",
    "decryptor.decrypt(x_plus_one_sq, decrypted_result);\n",
    "print('Decryption of x_plus_one_sq: 0x' + decrypted_result.to_string())"
   ]
  },
  {
   "cell_type": "markdown",
   "metadata": {},
   "source": [
    "Finally, we multiply (x^2 + 1) * (x + 1)^2 * 4."
   ]
  },
  {
   "cell_type": "code",
   "execution_count": 22,
   "metadata": {},
   "outputs": [
    {
     "name": "stdout",
     "output_type": "stream",
     "text": [
      "Size of encrypted_result: 5\n",
      "Noise budget in encrypted_result: 4 bits\n",
      "NOTE: Decryption can be incorrect if noise budget is zero.\n",
      "Decryption of 4(x^2+1)(x+1)^2 = 0x54\n"
     ]
    }
   ],
   "source": [
    "encrypted_result = seal.Ciphertext()\n",
    "plain_four = seal.Plaintext(\"4\")\n",
    "\n",
    "evaluator.multiply_plain_inplace(x_sq_plus_one, plain_four)\n",
    "evaluator.multiply(x_sq_plus_one, x_plus_one_sq, encrypted_result)\n",
    "\n",
    "print('Size of encrypted_result: ' + str(encrypted_result.size()))\n",
    "print('Noise budget in encrypted_result: ' + str(decryptor.invariant_noise_budget(encrypted_result)) + ' bits')\n",
    "print('NOTE: Decryption can be incorrect if noise budget is zero.')\n",
    "\n",
    "decryptor.decrypt(encrypted_result, decrypted_result)\n",
    "print('Decryption of 4(x^2+1)(x+1)^2 = 0x' + decrypted_result.to_string())"
   ]
  },
  {
   "cell_type": "markdown",
   "metadata": {},
   "source": [
    "## A better way to calculate 4(x^2+1)(x+1)^2"
   ]
  },
  {
   "cell_type": "markdown",
   "metadata": {},
   "source": [
    "\n",
    "Noise budget has reached 0, which means that decryption cannot be expected\n",
    "to give the correct result. This is because both ciphertexts x_sq_plus_one\n",
    "and x_plus_one_sq consist of 3 polynomials due to the previous squaring\n",
    "operations, and homomorphic operations on large ciphertexts consume much more\n",
    "noise budget than computations on small ciphertexts. Computing on smaller\n",
    "ciphertexts is also computationally significantly cheaper.\n",
    "\n",
    "'Relinearization' is an operation that reduces the size of a ciphertext after\n",
    "multiplication back to the initial size, 2. Thus, relinearizing one or both\n",
    "input ciphertexts before the next multiplication can have a huge positive\n",
    "impact on both noise growth and performance, even though relinearization has\n",
    "a significant computational cost itself. It is only possible to relinearize\n",
    "size 3 ciphertexts down to size 2, so often the user would want to relinearize\n",
    "after each multiplication to keep the ciphertext sizes at 2.\n",
    "\n",
    "Relinearization requires special 'relinearization keys', which can be thought\n",
    "of as a kind of public key. Relinearization keys can easily be created with\n",
    "the `KeyGenerator`.\n",
    "\n",
    "Relinearization is used similarly in both the BFV and the CKKS schemes, but\n",
    "in this example we continue using BFV. We repeat our computation from before,\n",
    "but this time relinearize after every multiplication."
   ]
  },
  {
   "cell_type": "code",
   "execution_count": 23,
   "metadata": {},
   "outputs": [],
   "source": [
    "relin_keys = seal.RelinKeys()\n",
    "keygen.create_relin_keys(relin_keys)"
   ]
  },
  {
   "cell_type": "code",
   "execution_count": null,
   "metadata": {},
   "outputs": [],
   "source": []
  },
  {
   "cell_type": "markdown",
   "metadata": {},
   "source": [
    "We now repeat the computation relinearizing after each multiplication."
   ]
  },
  {
   "cell_type": "markdown",
   "metadata": {},
   "source": [
    "Compute and relinearize `x_squared` (x^2), then compute `x_sq_plus_one` (x^2+1)"
   ]
  },
  {
   "cell_type": "code",
   "execution_count": 24,
   "metadata": {},
   "outputs": [
    {
     "name": "stdout",
     "output_type": "stream",
     "text": [
      "Size of x_squared: 3\n",
      "Size of x_squared (after relinearization): 2\n",
      "Noise budget in x_sq_plus_one: 33 bits\n",
      "Decryption of x_sq_plus_one: 0x25\n"
     ]
    }
   ],
   "source": [
    "x_squared = seal.Ciphertext()\n",
    "evaluator.square(x_encrypted, x_squared)\n",
    "print('Size of x_squared: ' + str(x_squared.size()))\n",
    "\n",
    "evaluator.relinearize_inplace(x_squared, relin_keys)\n",
    "print('Size of x_squared (after relinearization): ' + str(x_squared.size()))\n",
    "\n",
    "evaluator.add_plain(x_squared, plain_one, x_sq_plus_one)\n",
    "print('Noise budget in x_sq_plus_one: ' + str(decryptor.invariant_noise_budget(x_sq_plus_one)) + ' bits')\n",
    "\n",
    "decryptor.decrypt(x_sq_plus_one, decrypted_result);\n",
    "print('Decryption of x_sq_plus_one: 0x' +  decrypted_result.to_string())"
   ]
  },
  {
   "cell_type": "markdown",
   "metadata": {},
   "source": [
    "Compute `x_plus_one` (x+1), then compute and relinearize `x_plus_one_sq` ((x+1)^2)."
   ]
  },
  {
   "cell_type": "code",
   "execution_count": 25,
   "metadata": {},
   "outputs": [
    {
     "name": "stdout",
     "output_type": "stream",
     "text": [
      "Size of x_plus_one_sq: 3\n",
      "Noise budget in x_plus_one_sq: 33 bits\n",
      "Decryption of x_plus_one_sq: 0x31\n"
     ]
    }
   ],
   "source": [
    "\n",
    "x_plus_one = seal.Ciphertext()\n",
    "evaluator.add_plain(x_encrypted, plain_one, x_plus_one)\n",
    "evaluator.square(x_plus_one, x_plus_one_sq)\n",
    "print('Size of x_plus_one_sq: ' + str(x_plus_one_sq.size()))\n",
    "\n",
    "evaluator.relinearize_inplace(x_plus_one_sq, relin_keys)\n",
    "print('Noise budget in x_plus_one_sq: ' + str(decryptor.invariant_noise_budget(x_plus_one_sq)) + ' bits')\n",
    "\n",
    "decryptor.decrypt(x_plus_one_sq, decrypted_result)\n",
    "print('Decryption of x_plus_one_sq: 0x' + decrypted_result.to_string())"
   ]
  },
  {
   "cell_type": "markdown",
   "metadata": {},
   "source": [
    "Compute and relinearize `encrypted_result` (4(x^2+1)(x+1)^2)."
   ]
  },
  {
   "cell_type": "code",
   "execution_count": 26,
   "metadata": {},
   "outputs": [
    {
     "name": "stdout",
     "output_type": "stream",
     "text": [
      "Size of encrypted_result: 3\n",
      "Size of encrypted_result (after relinearization): 2\n",
      "Noise budget in encrypted_result: 10 bits\n",
      "NOTE: Notice the increase in remaining noise budget.\n"
     ]
    }
   ],
   "source": [
    "evaluator.multiply_plain_inplace(x_sq_plus_one, plain_four)\n",
    "evaluator.multiply(x_sq_plus_one, x_plus_one_sq, encrypted_result)\n",
    "print('Size of encrypted_result: ' + str(encrypted_result.size()))\n",
    "\n",
    "evaluator.relinearize_inplace(encrypted_result, relin_keys)\n",
    "print('Size of encrypted_result (after relinearization): ' + str(encrypted_result.size()))\n",
    "print('Noise budget in encrypted_result: ' + str(decryptor.invariant_noise_budget(encrypted_result)) + ' bits')\n",
    "print('NOTE: Notice the increase in remaining noise budget.')"
   ]
  },
  {
   "cell_type": "markdown",
   "metadata": {},
   "source": [
    "Relinearization clearly improved our noise consumption. We have still plenty\n",
    "of noise budget left, so we can expect the correct answer when decrypting."
   ]
  },
  {
   "cell_type": "code",
   "execution_count": 27,
   "metadata": {},
   "outputs": [
    {
     "name": "stdout",
     "output_type": "stream",
     "text": [
      "Decryption of 4(x^2+1)(x+1)^2 = 0x54\n"
     ]
    }
   ],
   "source": [
    "decryptor.decrypt(encrypted_result, decrypted_result)\n",
    "print('Decryption of 4(x^2+1)(x+1)^2 = 0x' + decrypted_result.to_string())"
   ]
  },
  {
   "cell_type": "markdown",
   "metadata": {},
   "source": [
    "\n",
    "For x=6, 4(x^2+1)(x+1)^2 = 7252. Since the plaintext modulus is set to 1024,\n",
    "this result is computed in integers modulo 1024. Therefore the expected output\n",
    "should be 7252 % 1024 == 84, or 0x54 in hexadecimal.\n",
    "\n",
    "Sometimes we create customized encryption parameters which turn out to be invalid.\n",
    "Microsoft SEAL can interpret the reason why parameters are considered invalid.\n",
    "Here we simply reduce the polynomial modulus degree to make the parameters not\n",
    "compliant with the [HomomorphicEncryption.org](https://homomorphicencryption.org) security standard.\n"
   ]
  },
  {
   "cell_type": "code",
   "execution_count": 29,
   "metadata": {},
   "outputs": [
    {
     "name": "stdout",
     "output_type": "stream",
     "text": [
      "Parameter validation (failed): parameters are not compliant with HomomorphicEncryption.org security standard\n"
     ]
    }
   ],
   "source": [
    "parms.set_poly_modulus_degree(2048)\n",
    "context = seal.SEALContext(parms, True, seal.SEC_LEVEL_TYPE.TC128)\n",
    "print('Parameter validation (failed): ' + context.parameters_error_message())"
   ]
  },
  {
   "cell_type": "markdown",
   "metadata": {},
   "source": [
    "This information is helpful to fix invalid encryption parameters."
   ]
  }
 ],
 "metadata": {
  "kernelspec": {
   "display_name": "Python 3.9.7 ('secure-ml-venv')",
   "language": "python",
   "name": "python3"
  },
  "language_info": {
   "codemirror_mode": {
    "name": "ipython",
    "version": 3
   },
   "file_extension": ".py",
   "mimetype": "text/x-python",
   "name": "python",
   "nbconvert_exporter": "python",
   "pygments_lexer": "ipython3",
   "version": "3.9.7"
  },
  "orig_nbformat": 4,
  "vscode": {
   "interpreter": {
    "hash": "51a1eaa9f94a8055b5f69fda38d5e2c63385f357b8ace33bd7f635ff4a855d53"
   }
  }
 },
 "nbformat": 4,
 "nbformat_minor": 2
}
