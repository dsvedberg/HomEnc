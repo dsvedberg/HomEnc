{
 "cells": [
  {
   "cell_type": "markdown",
   "metadata": {},
   "source": [
    "Test comparison of two scalars using SEAL API from tenseal module. Parameters and setup is explained in 5_ckks_basics on the SEAL github page. "
   ]
  },
  {
   "cell_type": "code",
   "execution_count": 18,
   "metadata": {},
   "outputs": [],
   "source": [
    "import tenseal.sealapi as seal\n",
    "import util\n",
    "from math import log2,ceil"
   ]
  },
  {
   "cell_type": "markdown",
   "metadata": {},
   "source": [
    "Note that using larger bit sizes for the primes in the coefficient modulus chain is advantageous since it allows for scale stabilization. With a larger prime and scale, we improve precision. "
   ]
  },
  {
   "cell_type": "code",
   "execution_count": 51,
   "metadata": {},
   "outputs": [
    {
     "name": "stdout",
     "output_type": "stream",
     "text": [
      "/\n",
      "|Encryption parameters: \n",
      "|\tscheme: CKKS\n",
      "|\tpoly_modulus_degree: 16384\n",
      "|\tcoeff_modulus_size: 330 (60 35 35 35 35 35 35 60) bits\n",
      "|\t Max Bit Count: 438\n"
     ]
    }
   ],
   "source": [
    "parms = seal.EncryptionParameters(seal.SCHEME_TYPE.CKKS)\n",
    "poly_modulus_degree = 2**14\n",
    "mod_pow = 35\n",
    "parms.set_poly_modulus_degree(poly_modulus_degree)\n",
    "parms.set_coeff_modulus(seal.CoeffModulus.Create(poly_modulus_degree, [60, mod_pow,mod_pow,mod_pow,mod_pow,mod_pow,mod_pow,60]))\n",
    "scale = pow(2.0, mod_pow)\n",
    "\n",
    "# What are the specific primes in the modulus chain? These help calculate exact scales \n",
    "# of rescaled ciphertexts later on in this notebook. \n",
    "modulus_chain = [modulus.value() for modulus in parms.coeff_modulus()]\n",
    "\n",
    "primes = [coeff.value() for coeff in parms.coeff_modulus()]\n",
    "\n",
    "context = seal.SEALContext(parms,True,seal.SEC_LEVEL_TYPE.TC128)\n",
    "\n",
    "util.print_parameters(context)\n",
    "\n",
    "print(\"|\\t Max Bit Count: \" + str(seal.CoeffModulus.MaxBitCount(poly_modulus_degree, seal.SEC_LEVEL_TYPE.TC128)))"
   ]
  },
  {
   "cell_type": "markdown",
   "metadata": {},
   "source": [
    "Generate keys using SEAL keygenerator. Generate encoder, evaluator, encryptor and decryptor. "
   ]
  },
  {
   "cell_type": "code",
   "execution_count": 20,
   "metadata": {},
   "outputs": [
    {
     "name": "stdout",
     "output_type": "stream",
     "text": [
      "Number of slots: 8192\n"
     ]
    }
   ],
   "source": [
    "\n",
    "keygen = seal.KeyGenerator(context)\n",
    "secret_key = keygen.secret_key()\n",
    "\n",
    "public_key = seal.PublicKey()\n",
    "keygen.create_public_key(public_key)\n",
    "\n",
    "relin_keys = seal.RelinKeys()\n",
    "keygen.create_relin_keys(relin_keys)\n",
    "\n",
    "galois_keys = seal.GaloisKeys()\n",
    "keygen.create_galois_keys()\n",
    "\n",
    "encryptor = seal.Encryptor(context, public_key)\n",
    "evaluator = seal.Evaluator(context)\n",
    "decryptor = seal.Decryptor(context, secret_key)\n",
    "\n",
    "encoder = seal.CKKSEncoder(context)\n",
    "slot_count = seal.CKKSEncoder.slot_count(encoder)\n",
    "\n",
    "print('Number of slots: ' + str(slot_count))"
   ]
  },
  {
   "cell_type": "markdown",
   "metadata": {},
   "source": [
    "Let $x$ be the encrypted difference between two number in $a,b\\in[0,1]$, such that $x\\in[-1,1]$."
   ]
  },
  {
   "cell_type": "code",
   "execution_count": 21,
   "metadata": {},
   "outputs": [],
   "source": [
    "a=0.2;b=0.8\n",
    "x = a-b\n",
    "x_plain = seal.Plaintext()\n",
    "encoder.encode(x,scale, x_plain)\n",
    "\n",
    "x_enc = seal.Ciphertext()\n",
    "encryptor.encrypt(x_plain, x_enc)"
   ]
  },
  {
   "cell_type": "code",
   "execution_count": 22,
   "metadata": {},
   "outputs": [],
   "source": [
    "# Worst way of copying a ciphertext - multiply by plaintext 1. Consumes one ciphertext level. \n",
    "def bad_copy(cipher : seal.Ciphertext,scale : int, evaluator  : seal.Evaluator, encoder : seal.CKKSEncoder):\n",
    "    dummy_plain = seal.Plaintext()\n",
    "    encoder.encode(1, scale, dummy_plain)\n",
    "\n",
    "    copy = seal.Ciphertext()\n",
    "    evaluator.multiply_plain(cipher, dummy_plain, copy)\n",
    "\n",
    "    evaluator.rescale_to_next_inplace(copy)\n",
    "    \n",
    "    return copy \n"
   ]
  },
  {
   "cell_type": "markdown",
   "metadata": {},
   "source": [
    "The cell below simply tests the copying method above and prints some information about the copied ciphertext. "
   ]
  },
  {
   "cell_type": "code",
   "execution_count": 23,
   "metadata": {},
   "outputs": [
    {
     "name": "stdout",
     "output_type": "stream",
     "text": [
      "First data level parms_id():\n",
      "[8581331200408610277, 13302195022564177709, 1237030387993002687, 5771053831278510699]\n",
      "Original parms_id():\n",
      "[8581331200408610277, 13302195022564177709, 1237030387993002687, 5771053831278510699]\n",
      "Copy parms_id():\n",
      "[7388653974824800976, 12986223737403185069, 8737996544829265756, 18402466612834462340]\n",
      "\n",
      "Original scale\n",
      "34359738368.0\n",
      "Modulus switched original parms_id():\n",
      "[7388653974824800976, 12986223737403185069, 8737996544829265756, 18402466612834462340]\n",
      "Modulus switched scale: \n",
      "34359738368.0\n",
      "\n",
      "Primes in the coefficient modulus chain:\n",
      "[1152921504606683137, 34357411841, 34357444609, 34357805057, 34358788097, 34359214081, 34359410689, 1152921504606748673]\n",
      "\n",
      "Copy scale\n",
      "34360066050.12501\n",
      "Product scale:\n",
      "1.1806028797894944e+21\n",
      "Product scale after rescale:\n",
      "34360590350.1252\n",
      "scale^3/P_1/P_2\n",
      "34360590350.1252\n",
      "Decrypted copy:\n",
      "-0.5999999507772056\n",
      "Decrypted original:\n",
      "-0.5999999513003557\n"
     ]
    }
   ],
   "source": [
    "# Test bad_copy\n",
    "x_copy = bad_copy(x_enc, scale, evaluator, encoder)\n",
    "\n",
    "print(\"First data level parms_id():\")\n",
    "print(context.first_parms_id())\n",
    "print(\"Original parms_id():\")\n",
    "print(x_enc.parms_id())\n",
    "# Note that the parms_id() of the copy shows that this ciphertext\n",
    "# is a level lower than the original. \n",
    "print(\"Copy parms_id():\")\n",
    "print(x_copy.parms_id())\n",
    "\n",
    "# Print scale of original for later comparison\n",
    "print(\"\\nOriginal scale\")\n",
    "print(x_enc.scale)\n",
    "\n",
    "# Copy is at different level from original, this\n",
    "# can be changed with modulus switching, effectively\n",
    "# wasting one ciphertext level.  \n",
    "print(\"Modulus switched original parms_id():\")\n",
    "evaluator.mod_switch_to_next_inplace(x_enc)\n",
    "print(x_enc.parms_id())\n",
    "\n",
    "# Modulus switching does not change the scale\n",
    "print(\"Modulus switched scale: \")\n",
    "print(x_enc.scale)\n",
    "\n",
    "# What are the specific primes in the modulus chain? \n",
    "print(\"\\nPrimes in the coefficient modulus chain:\")\n",
    "print(modulus_chain)\n",
    "\n",
    "# What is the exact scale of the copied ciphertext?\n",
    "print(\"\\nCopy scale\")\n",
    "print(x_copy.scale)\n",
    "\n",
    "# What happens when we operate on original and copy, \n",
    "# for illustration purposes only.\n",
    "test = seal.Ciphertext()\n",
    "evaluator.multiply(x_copy, x_enc, test)\n",
    "\n",
    "# Scale has now grown \n",
    "print(\"Product scale:\")\n",
    "print(test.scale)\n",
    "\n",
    "# and we want to rescale\n",
    "evaluator.rescale_to_next_inplace(test)\n",
    "print(\"Product scale after rescale:\")\n",
    "print(test.scale)\n",
    "\n",
    "# Note that the exact scale of the new rescaled product\n",
    "# which happens to be the square of the original cipher is\n",
    "# exactly the scale of the original (scale) times the scale\n",
    "# copy (scale**2)/modulus_chain[-2] (the first prime), which \n",
    "# is then rescaled (divided by the next prime in the chain), \n",
    "# modulus_chain[-3]\n",
    "print(\"scale^3/P_1/P_2\")\n",
    "print(scale**3/modulus_chain[-2]/modulus_chain[-3])\n",
    "\n",
    "tmp_result = seal.Plaintext()\n",
    "decryptor.decrypt(x_copy, tmp_result)\n",
    "print(\"Decrypted copy:\")\n",
    "print(encoder.decode_double(tmp_result)[0])\n",
    "decryptor.decrypt(x_enc, tmp_result)\n",
    "print(\"Decrypted original:\")\n",
    "print(encoder.decode_double(tmp_result)[0])\n"
   ]
  },
  {
   "cell_type": "markdown",
   "metadata": {},
   "source": [
    "Polynomial approximations of the comparison function using polynomials f_3(x), g_3(x) from \"Efficient Sorting of Homomorphic Encrypted Data with k-way Sorting Network\". Note that the argument to the function in this case will be the encrypted `difference`between $a$ and $b$, i.e., $a-b$. \n",
    "\n",
    "* $g_3(x) = (35x-35x^3+21x^5-5x^7)/2^4$\n",
    "\n",
    "* $f_3(x) = (4589x-16577x^3+25614x^5-12860x^7)/2^{10}$\n",
    "\n",
    "Comparison function is implemented in the paper as\n",
    "\n",
    "* $(x>y) := (f_3^{(d_f)}\\circ g_3^{(d_g)}(x-y) + 1)/2$\n",
    "\n",
    "$d_g$ and $d_f$ are not specified in the paper. Will begin testing with $d_f=d_g=1$. \n",
    "\n",
    "Note that the highest degree term is $x^7 = (x^2)^2(x^2*)x$, requiring four multiplications. We will begin by calculating the different temrs, \n",
    "- $x^7$\n",
    "- $x^5$\n",
    "- $x^3$"
   ]
  },
  {
   "cell_type": "code",
   "execution_count": 24,
   "metadata": {},
   "outputs": [],
   "source": [
    "# A function for controlling size and scale of ciphertext after multiplication\n",
    "def relinearize_and_rescale_inplace(cipher : seal.Ciphertext, evaluator : seal.Evaluator, relin_keys : seal.RelinKeys):\n",
    "    # Control size by relinearization\n",
    "    evaluator.relinearize_inplace(cipher, relin_keys)\n",
    "    # Control scale by rescaling\n",
    "    evaluator.rescale_to_next_inplace(cipher)\n",
    "\n",
    "# evaluator::exponentiate not supported for CKKS, write separate function for exponentiation, note that \"res\" \n",
    "# should be an encryption of 1 for this to work. \n",
    "def square_and_multiply(cipher : seal.Ciphertext, exp : int,  evaluator : seal.Evaluator, relin_keys : seal.RelinKeys,scale : int, encoder: seal.CKKSEncoder, res : seal.Ciphertext):  \n",
    "    if exp==0:\n",
    "        raise ValueError(\"Exponent cannot be zero --> transparent ciphertext.\")\n",
    "    binary_exp = bin(exp)[2:]\n",
    "    for char in binary_exp[::-1]:\n",
    "        if char=='1':\n",
    "            if res.data() == None:\n",
    "                raise ValueError(\"Ciphertext res must be initialized to 1.\")\n",
    "            else:\n",
    "                #print(\"Current scale:\\t\" + str(res.scale))\n",
    "                evaluator.multiply_inplace(res, cipher)\n",
    "                relinearize_and_rescale_inplace(res, evaluator, relin_keys)\n",
    "                evaluator.square_inplace(cipher)\n",
    "                relinearize_and_rescale_inplace(cipher, evaluator, relin_keys)\n",
    "                #print(\"Current scale:\\t\" + str(res.scale))\n",
    "        else:\n",
    "            evaluator.square_inplace(cipher)\n",
    "            relinearize_and_rescale_inplace(cipher,evaluator, relin_keys)\n",
    "            evaluator.mod_switch_to_next_inplace(res)\n",
    "\n",
    "# Divide by power of 2, divides cipher by 2**power\n",
    "def divByPo2(cipher: seal.Ciphertext, power : int):\n",
    "    cipher.scale = cipher.scale*(2**power)\n",
    "\n"
   ]
  },
  {
   "cell_type": "markdown",
   "metadata": {},
   "source": [
    "The cell below simply tests the function `square_and_multiply` above. Use this to test with different exponents to exemplify different levels, etc."
   ]
  },
  {
   "cell_type": "code",
   "execution_count": 25,
   "metadata": {},
   "outputs": [
    {
     "name": "stdout",
     "output_type": "stream",
     "text": [
      "Exponent is 4 leading to circuit with depth 2\n",
      "Encrypted result is: 1.296002E-01\n",
      "True result is: 1.296000E-01\n",
      "Error is: 1.9327E-07\n"
     ]
    }
   ],
   "source": [
    "# Need fresh ciphertext\n",
    "encryptor.encrypt(x_plain, x_enc)\n",
    "\n",
    "dummy_plain = seal.Plaintext()\n",
    "encoder.encode(1, scale, dummy_plain)\n",
    "# Note that the ciphertext x7 is initialized as an encryption of 1,\n",
    "# which is required by squared_and_multply \n",
    "x7_enc = seal.Ciphertext()\n",
    "encryptor.encrypt(dummy_plain, x7_enc)\n",
    "# Have to waste one level to make square_and_multiply compatible \n",
    "# copied ciphertext\n",
    "x_copy = bad_copy(x_enc, scale, evaluator, encoder)\n",
    "evaluator.mod_switch_to_next_inplace(x7_enc)\n",
    "exponent = 4\n",
    "square_and_multiply(x_copy, exponent, evaluator, relin_keys,scale, encoder, x7_enc)\n",
    "\n",
    "plain_result = seal.Plaintext()\n",
    "decryptor.decrypt(x7_enc, plain_result)\n",
    "result = encoder.decode_double(plain_result)[0]\n",
    "print(f\"Exponent is {exponent} leading to circuit with depth {ceil(log2(exponent))}\")\n",
    "print(f\"Encrypted result is: {result:.6E}\")\n",
    "print(f\"True result is: {x**exponent:.6E}\")\n",
    "print(f\"Error is: {(result-x**exponent):.4E}\")"
   ]
  },
  {
   "cell_type": "markdown",
   "metadata": {},
   "source": [
    "The cell below tests the function `divByPo2`, resulting ciphertexts are not used in subsequent calculations. "
   ]
  },
  {
   "cell_type": "code",
   "execution_count": 26,
   "metadata": {},
   "outputs": [
    {
     "name": "stdout",
     "output_type": "stream",
     "text": [
      "Ciphertext level before divByPo2: 6\n",
      "Ciphertext level after divByPo2: 6\n",
      "\n",
      "divByPo2 result: \n",
      "-0.000585937472349454\n",
      "True value: \n",
      "-0.0005859375000000001\n"
     ]
    }
   ],
   "source": [
    "# Test divByPo2\n",
    "# Fresh ciphertext \n",
    "encryptor.encrypt(x_plain, x_enc)\n",
    "\n",
    "power = 10\n",
    "print(\"Ciphertext level before divByPo2: \" + str(context.get_context_data(x_enc.parms_id()).chain_index()))\n",
    "divByPo2(x_enc, power)\n",
    "test_plain = seal.Plaintext()\n",
    "decryptor.decrypt(x_enc, test_plain)\n",
    "# The divByPo2 does not change the level of the ciphertext.\n",
    "print(\"Ciphertext level after divByPo2: \" + str(context.get_context_data(x_enc.parms_id()).chain_index()))\n",
    "\n",
    "print(\"\\ndivByPo2 result: \")\n",
    "print(encoder.decode_double(test_plain)[0])\n",
    "\n",
    "print(\"True value: \")\n",
    "print(x/2**power)\n"
   ]
  },
  {
   "cell_type": "markdown",
   "metadata": {},
   "source": [
    "Now we are ready to calculate all odd powers up to 7 using the `square_and_multiply` algorithm on \"copied\" ciphertexts, thereby avoiding changing the original. After calculating the powers, check the `parms_id()`. "
   ]
  },
  {
   "cell_type": "code",
   "execution_count": 52,
   "metadata": {},
   "outputs": [
    {
     "name": "stdout",
     "output_type": "stream",
     "text": [
      "Original scale:\t34359738368.0\n",
      "x^7 scale bef.:\t34359738368.0\n",
      "x^7 chain_index():\t2\n",
      "x^7 scale:\t34367964214.10345\n",
      "x^5 chain_index():\t2\n",
      "x^5 scale:\t34365833833.954185\n",
      "x^3 chain_index():\t3\n",
      "x^3 scale:\t34362720405.22447\n",
      "x_copy chain_index():\t5\n"
     ]
    }
   ],
   "source": [
    "# Fresh ciphertext:\n",
    "encryptor.encrypt(x_plain, x_enc)\n",
    "\n",
    "# First x^7\n",
    "dummy_plain = seal.Plaintext()\n",
    "encoder.encode(1, scale, dummy_plain)\n",
    "x7_enc = seal.Ciphertext()\n",
    "encryptor.encrypt(dummy_plain, x7_enc)\n",
    "# Have to waste one level to make square_and_multiply compatible \n",
    "# copied ciphertext\n",
    "x_copy = bad_copy(x_enc, scale, evaluator, encoder)\n",
    "evaluator.mod_switch_to_next_inplace(x7_enc)\n",
    "print(\"Original scale:\\t\" + str(scale))\n",
    "print(\"x^7 scale bef.:\\t\" + str(x7_enc.scale))\n",
    "square_and_multiply(x_copy, 7, evaluator, relin_keys,scale, encoder, x7_enc)\n",
    "\n",
    "print(\"x^7 chain_index():\\t\" + str(context.get_context_data(x7_enc.parms_id()).chain_index()))\n",
    "print(\"x^7 scale:\\t\" + str(x7_enc.scale))\n",
    "# Then x^5 \n",
    "x5_enc = seal.Ciphertext()\n",
    "encryptor.encrypt(dummy_plain, x5_enc)\n",
    "# Have to waste one level to make square_and_multiply compatible \n",
    "# copied ciphertext\n",
    "x_copy = bad_copy(x_enc, scale, evaluator, encoder)\n",
    "evaluator.mod_switch_to_next_inplace(x5_enc)\n",
    "square_and_multiply(x_copy, 5, evaluator, relin_keys,scale, encoder, x5_enc)\n",
    "\n",
    "print(\"x^5 chain_index():\\t\" + str(context.get_context_data(x5_enc.parms_id()).chain_index()))\n",
    "print(\"x^5 scale:\\t\" + str(x5_enc.scale))\n",
    "\n",
    "# Now x^3\n",
    "x3_enc = seal.Ciphertext()\n",
    "encryptor.encrypt(dummy_plain, x3_enc)\n",
    "# Have to waste one level to make square_and_multiply compatible \n",
    "# copied ciphertext\n",
    "x_copy = bad_copy(x_enc, scale, evaluator, encoder)\n",
    "evaluator.mod_switch_to_next_inplace(x3_enc)\n",
    "square_and_multiply(x_copy, 3, evaluator, relin_keys,scale, encoder, x3_enc)\n",
    "\n",
    "#Obviously, we expect that the level of x^7 and x^5 is the same, since both require\n",
    "# ceil(log2(7))=ceil(log2(5))=3 multiplications. However, x^3 should be at a higher, \n",
    "# since we only need 2 multiplications. \n",
    "\n",
    "print(\"x^3 chain_index():\\t\" + str(context.get_context_data(x3_enc.parms_id()).chain_index()))\n",
    "print(\"x^3 scale:\\t\" + str(x3_enc.scale))\n",
    "\n",
    "# Finally, use the copy of x for calculations. \n",
    "x_copy = bad_copy(x_enc, scale, evaluator, encoder)\n",
    "print(\"x_copy chain_index():\\t\" + str(context.get_context_data(x_copy.parms_id()).chain_index()))\n",
    "\n"
   ]
  },
  {
   "cell_type": "markdown",
   "metadata": {},
   "source": [
    "We are now ready to multiply by the plain coefficients of the polynomial. Note however, that we might as well use addition and `divByPo2` to avoid further multiplications."
   ]
  },
  {
   "cell_type": "code",
   "execution_count": 36,
   "metadata": {},
   "outputs": [],
   "source": [
    "def add_many_coeff(coeff: int, cipher: seal.Ciphertext,evaluator: seal.Evaluator, result: seal.Ciphertext):\n",
    "    tmp = []\n",
    "    for i in range(coeff):\n",
    "        tmp.append(cipher)\n",
    "    evaluator.add_many(tmp, result)"
   ]
  },
  {
   "cell_type": "code",
   "execution_count": 61,
   "metadata": {},
   "outputs": [
    {
     "name": "stdout",
     "output_type": "stream",
     "text": [
      "35x/2^4\n",
      "\tEnc. result:\t-1.3125001755103025\n",
      "\tPlain result:\t-1.3125000000000002\n",
      "\tScale:\t549761056802.0001\n",
      "\tCh. ind:\t5\n",
      "35x^3/2^4\n",
      "\tEnc. result:\t-0.47250007385581344\n",
      "\tPlain result:\t-0.47250000000000025\n",
      "\tScale:\t549803526483.5916\n",
      "\tCh. ind:\t3\n",
      "21x^5/2^4\n",
      "\tEnc. result:\t-0.10206002736599178\n",
      "\tPlain result:\t-0.10206000000000007\n",
      "\tScale:\t549853341343.267\n",
      "\tCh. ind:\t2\n",
      "5x^7/2^4\n",
      "\tEnc. result:\t-0.008748005707963065\n",
      "\tPlain result:\t-0.00874800000000001\n",
      "\tScale:\t549887427425.6552\n",
      "\tCh. ind:\t2\n"
     ]
    }
   ],
   "source": [
    "# Want to calculate g, i.e., we need 35x, 35x^3, 21x^5, 5x^7, all divided by 2^4\n",
    "\n",
    "\n",
    "# PROBLEM - HAVE NOT MANAGED TO GET SCALE STABILIZATION\n",
    "x_coeff = seal.Ciphertext()\n",
    "add_many_coeff(35, x_copy, evaluator, x_coeff)\n",
    "divByPo2(x_coeff, 4)\n",
    "\n",
    "tmp_result = seal.Plaintext()\n",
    "decryptor.decrypt(x_coeff, tmp_result)\n",
    "print(\"35x/2^4\")\n",
    "util.print_info(x_coeff, decryptor, context, encoder, 35*x/2**4)\n",
    "\n",
    "x3_coeff = seal.Ciphertext()\n",
    "add_many_coeff(35, x3_enc, evaluator, x3_coeff)\n",
    "divByPo2(x3_coeff, 4)\n",
    "decryptor.decrypt(x3_coeff, tmp_result)\n",
    "print(\"35x^3/2^4\")\n",
    "util.print_info(x3_coeff, decryptor, context, encoder, 35*x**3/2**4)\n",
    "\n",
    "x5_coeff = seal.Ciphertext()\n",
    "add_many_coeff(21, x5_enc, evaluator, x5_coeff)\n",
    "divByPo2(x5_coeff, 4)\n",
    "decryptor.decrypt(x5_coeff, tmp_result)\n",
    "print(\"21x^5/2^4\")\n",
    "util.print_info(x5_coeff, decryptor, context, encoder, 21*x**5/2**4)\n",
    "\n",
    "x7_coeff = seal.Ciphertext()\n",
    "add_many_coeff(5, x7_enc, evaluator, x7_coeff)\n",
    "divByPo2(x7_coeff, 4)\n",
    "decryptor.decrypt(x7_coeff, tmp_result)\n",
    "print(\"5x^7/2^4\")\n",
    "util.print_info(x7_coeff, decryptor, context, encoder, 5*x**7/2**4)"
   ]
  },
  {
   "cell_type": "markdown",
   "metadata": {},
   "source": [
    "With all powers we need, we are now ready to calculate the value of the polynomial. Note however that all ciphertexts have different scale and that we need to change the level of 35x and 35x^3 to be able to compute sums of the powers. This can be done in two ways, following `5_ckks_basics.ipynb`. I will first try the easiest method of simply setting the scale manually, since in all cases, the scale is alsmost equal to the original scale. "
   ]
  },
  {
   "cell_type": "code",
   "execution_count": 62,
   "metadata": {},
   "outputs": [
    {
     "name": "stdout",
     "output_type": "stream",
     "text": [
      "Scale of 5x^7/2^4:\t549887427425.6552\n",
      "35x\n",
      "\tEnc. result:\t-1.3121985474725357\n",
      "\tPlain result:\t-1.3125000000000002\n",
      "\tScale:\t549887427425.6552\n",
      "\tCh. ind:\t2\n",
      "35x^3\n",
      "\tEnc. result:\t-0.47242798055208546\n",
      "\tPlain result:\t-0.47250000000000025\n",
      "\tScale:\t549887427425.6552\n",
      "\tCh. ind:\t2\n"
     ]
    }
   ],
   "source": [
    "# Note that 35x and 35x^3 are still at  different levels, which must be handled. \n",
    "evaluator.mod_switch_to_inplace(x_coeff, x7_coeff.parms_id())\n",
    "evaluator.mod_switch_to_inplace(x3_coeff, x7_coeff.parms_id())\n",
    "# Now manually set scale to the original (which is not true, and leads to loss in precision). \n",
    "# It is however, the simplest solution. \n",
    "\n",
    "print(f\"Scale of 5x^7/2^4:\\t{x7_coeff.scale}\")\n",
    "\n",
    "x_coeff.scale = x7_coeff.scale; x3_coeff.scale=x7_coeff.scale; x5_coeff.scale=x7_coeff.scale\n",
    "\n",
    "# Can we still decrypt to the correct values after rescaling?\n",
    "print(\"35x\")\n",
    "util.print_info(x_coeff, decryptor, context, encoder, 35*x/2**4)\n",
    "\n",
    "print(\"35x^3\")\n",
    "util.print_info(x3_coeff, decryptor, context, encoder, 35*x**3/2**4)"
   ]
  },
  {
   "cell_type": "markdown",
   "metadata": {},
   "source": [
    "It is now possible to sum all terms together! The cell below calculates the result and prints some intermediate results. "
   ]
  },
  {
   "cell_type": "code",
   "execution_count": 65,
   "metadata": {},
   "outputs": [
    {
     "name": "stdout",
     "output_type": "stream",
     "text": [
      "35x-35x^3\n",
      "\tEnc. result:\t-0.8397705669204507\n",
      "\tPlain result:\t-0.84\n",
      "\tScale:\t549887427425.6552\n",
      "\tCh. ind:\t2\n",
      "35x-35x^3+21x^5\n",
      "\tEnc. result:\t-0.9418242678524709\n",
      "\tPlain result:\t-0.94206\n",
      "\tScale:\t549887427425.6552\n",
      "\tCh. ind:\t2\n",
      "g(x) = 35x-35x^3+21x^5-5x^7\n",
      "\tEnc. result:\t-0.933076262144508\n",
      "\tPlain result:\t-0.933312\n",
      "\tScale:\t549887427425.6552\n",
      "\tCh. ind:\t2\n"
     ]
    }
   ],
   "source": [
    "res = seal.Ciphertext()\n",
    "# First (35x-35x^3)/2**4\n",
    "evaluator.sub(x_coeff, x3_coeff, res)\n",
    "print(\"35x-35x^3\")\n",
    "util.print_info(res, decryptor, context,encoder, (35*x-35*x**3)/2**4)\n",
    "# Now add 21x^5/2**4\n",
    "evaluator.add_inplace(res, x5_coeff)\n",
    "print(\"35x-35x^3+21x^5\")\n",
    "util.print_info(res, decryptor, context, encoder, (35*x-35*x**3+21*x**5)/2**4)\n",
    "# Finally add -5x^7/2**4\n",
    "\n",
    "evaluator.sub_inplace(res, x7_coeff)\n",
    "\n",
    "print(\"g(x) = 35x-35x^3+21x^5-5x^7\")\n",
    "util.print_info(res, decryptor, context, encoder, (35*x-35*x**3+21*x**5-5*x**7)/2**4)\n",
    "\n"
   ]
  },
  {
   "cell_type": "code",
   "execution_count": null,
   "metadata": {},
   "outputs": [],
   "source": []
  }
 ],
 "metadata": {
  "kernelspec": {
   "display_name": "Python 3.9.7 ('secure-ml-venv')",
   "language": "python",
   "name": "python3"
  },
  "language_info": {
   "codemirror_mode": {
    "name": "ipython",
    "version": 3
   },
   "file_extension": ".py",
   "mimetype": "text/x-python",
   "name": "python",
   "nbconvert_exporter": "python",
   "pygments_lexer": "ipython3",
   "version": "3.9.7"
  },
  "orig_nbformat": 4,
  "vscode": {
   "interpreter": {
    "hash": "51a1eaa9f94a8055b5f69fda38d5e2c63385f357b8ace33bd7f635ff4a855d53"
   }
  }
 },
 "nbformat": 4,
 "nbformat_minor": 2
}
