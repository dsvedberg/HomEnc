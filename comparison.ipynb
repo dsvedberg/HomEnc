{
 "cells": [
  {
   "cell_type": "markdown",
   "metadata": {},
   "source": [
    "Test comparison of two scalars using SEAL API from tenseal module. Parameters and setup is explained in 5_ckks_basics on the SEAL github page. "
   ]
  },
  {
   "cell_type": "code",
   "execution_count": 238,
   "metadata": {},
   "outputs": [],
   "source": [
    "import tenseal.sealapi as seal\n",
    "import util\n",
    "import compare_util as cu\n",
    "from math import log2,ceil\n",
    "import ctypes"
   ]
  },
  {
   "cell_type": "code",
   "execution_count": 261,
   "metadata": {},
   "outputs": [
    {
     "name": "stdout",
     "output_type": "stream",
     "text": [
      "/\n",
      "|Encryption parameters: \n",
      "|\tscheme: CKKS\n",
      "|\tpoly_modulus_degree: 16384\n",
      "|\tcoeff_modulus_size: 320 (60 40 40 40 40 40 60) bits\n",
      "|\t Max Bit Count: 438\n"
     ]
    }
   ],
   "source": [
    "parms = seal.EncryptionParameters(seal.SCHEME_TYPE.CKKS)\n",
    "poly_modulus_degree = 8192*2\n",
    "parms.set_poly_modulus_degree(poly_modulus_degree)\n",
    "parms.set_coeff_modulus(seal.CoeffModulus.Create(poly_modulus_degree, [60, 40,40,40,40,40, 60]))\n",
    "scale = pow(2.0, 40)\n",
    "\n",
    "context = seal.SEALContext(parms,True,seal.SEC_LEVEL_TYPE.TC128)\n",
    "\n",
    "util.print_parameters(context)\n",
    "\n",
    "print(\"|\\t Max Bit Count: \" + str(seal.CoeffModulus.MaxBitCount(poly_modulus_degree, seal.SEC_LEVEL_TYPE.TC128)))"
   ]
  },
  {
   "cell_type": "markdown",
   "metadata": {},
   "source": [
    "Generate keys using SEAL keygenerator. Generate encoder, evaluator, encryptor and decryptor. "
   ]
  },
  {
   "cell_type": "code",
   "execution_count": 262,
   "metadata": {},
   "outputs": [
    {
     "name": "stdout",
     "output_type": "stream",
     "text": [
      "Number of slots: 8192\n"
     ]
    }
   ],
   "source": [
    "\n",
    "keygen = seal.KeyGenerator(context)\n",
    "secret_key = keygen.secret_key()\n",
    "\n",
    "public_key = seal.PublicKey()\n",
    "keygen.create_public_key(public_key)\n",
    "\n",
    "relin_keys = seal.RelinKeys()\n",
    "keygen.create_relin_keys(relin_keys)\n",
    "\n",
    "galois_keys = seal.GaloisKeys()\n",
    "keygen.create_galois_keys()\n",
    "\n",
    "encryptor = seal.Encryptor(context, public_key)\n",
    "evaluator = seal.Evaluator(context)\n",
    "decryptor = seal.Decryptor(context, secret_key)\n",
    "\n",
    "encoder = seal.CKKSEncoder(context)\n",
    "slot_count = seal.CKKSEncoder.slot_count(encoder)\n",
    "\n",
    "print('Number of slots: ' + str(slot_count))"
   ]
  },
  {
   "cell_type": "markdown",
   "metadata": {},
   "source": [
    "Let $x$ be the encrypted difference between two number in $a,b\\in[0,1]$, such that $x\\in[-1,1]$."
   ]
  },
  {
   "cell_type": "code",
   "execution_count": 263,
   "metadata": {},
   "outputs": [],
   "source": [
    "a=0.2;b=0.8\n",
    "x = a-b\n",
    "x_plain = seal.Plaintext()\n",
    "encoder.encode(x,scale, x_plain)\n",
    "\n",
    "x_enc = seal.Ciphertext()\n",
    "encryptor.encrypt(x_plain, x_enc)"
   ]
  },
  {
   "cell_type": "code",
   "execution_count": 294,
   "metadata": {},
   "outputs": [],
   "source": [
    "# Worst way of copying a ciphertext - multiply by plaintext 1. Consumes one modulus level. \n",
    "def bad_copy(cipher : seal.Ciphertext,scale : int, evaluator  : seal.Evaluator, encoder : seal.CKKSEncoder):\n",
    "    dummy_plain = seal.Plaintext()\n",
    "    encoder.encode(1, scale, dummy_plain)\n",
    "\n",
    "    copy = seal.Ciphertext()\n",
    "    evaluator.multiply_plain(cipher, dummy_plain, copy)\n",
    "    # Force scale to be the same as original. Introduces error\n",
    "    evaluator.rescale_to_next_inplace(copy)\n",
    "    return copy \n"
   ]
  },
  {
   "cell_type": "markdown",
   "metadata": {},
   "source": [
    "Polynomial approximations of the comparison function using polynomials f_3(x), g_3(x) from \"Efficient Sorting of Homomorphic Encrypted Data with k-way Sorting Network\". Note that the argument to the function in this case will be the encrypted `difference`between $a$ and $b$, i.e., $a-b$. \n",
    "\n",
    "* g_3(x) = (35x-35x^3+21x^5-5x^7)/2^4\n",
    "\n",
    "* f_3(x) = (4589x-16577x^3+25614x^5-12860x^7)/2^10\n",
    "\n",
    "Comparison function is implemented in the paper as\n",
    "\n",
    "* (x>y) := $(f_3^{(d_f)}\\circ g_3^{(d_g)}(x-y) + 1)/2$\n",
    "\n",
    "$d_g$ and $d_f$ are not specified in the paper. Will begin testing with $d_f=d_g=1$. \n",
    "\n",
    "Note that the highest degree term is $x^7 = (x^2)^2(x^2*)x$, requiring four multiplications. We will begin by calculating the different temrs, \n",
    "- $x^7$\n",
    "- $x^5$\n",
    "- $x^3$"
   ]
  },
  {
   "cell_type": "code",
   "execution_count": 302,
   "metadata": {},
   "outputs": [],
   "source": [
    "# A function for controlling size and scale of ciphertext after multiplication\n",
    "def relinearize_and_rescale_inplace(cipher : seal.Ciphertext, eval : seal.Evaluator, relin_keys : seal.RelinKeys):\n",
    "    # Control size by relinearization\n",
    "    evaluator.relinearize_inplace(cipher, relin_keys)\n",
    "    # Control scale by rescaling\n",
    "    evaluator.rescale_to_next_inplace(cipher)\n",
    "\n",
    "# evaluator::exponentiate not supported for CKKS, write separate function for exponentiation, note that \"res\" \n",
    "# should be an encryption of 1 for this to work. \n",
    "def square_and_multiply(cipher : seal.Ciphertext, exp : int,  evaluator : seal.Evaluator, relin_keys : seal.RelinKeys,scale : int, encoder: seal.CKKSEncoder, res : seal.Ciphertext):  \n",
    "    if exp==0:\n",
    "        raise ValueError(\"Exponent cannot be zero --> transparent ciphertext.\")\n",
    "    binary_exp = bin(exp)[2:]\n",
    "    for char in binary_exp[::-1]:\n",
    "        if char=='1':\n",
    "            if res.data() == None:\n",
    "                raise ValueError(\"Ciphertext res must be initialized to 1.\")\n",
    "            else:\n",
    "                evaluator.multiply_inplace(res, cipher)\n",
    "                relinearize_and_rescale_inplace(res, evaluator, relin_keys)\n",
    "                evaluator.square_inplace(cipher)\n",
    "                relinearize_and_rescale_inplace(cipher, evaluator, relin_keys)\n",
    "        else:\n",
    "            evaluator.square_inplace(cipher)\n",
    "            relinearize_and_rescale_inplace(cipher,evaluator, relin_keys)\n",
    "            evaluator.mod_switch_to_next_inplace(res)\n"
   ]
  },
  {
   "cell_type": "code",
   "execution_count": 306,
   "metadata": {},
   "outputs": [],
   "source": [
    "#Fresh ciphertext (for debugging only, until I manage to make a copy of existing ciphertext)\n",
    "a=0.2;b=0.8\n",
    "x = a-b\n",
    "x_plain = seal.Plaintext()\n",
    "encoder.encode(x,scale, x_plain)\n",
    "\n",
    "x_enc = seal.Ciphertext()\n",
    "encryptor.encrypt(x_plain, x_enc)"
   ]
  },
  {
   "cell_type": "code",
   "execution_count": 307,
   "metadata": {},
   "outputs": [
    {
     "name": "stdout",
     "output_type": "stream",
     "text": [
      "Exponent is 4 leading to circuit with depth 2\n",
      "Encrypted result is: 1.296000E-01\n",
      "True result is: 1.296000E-01\n",
      "Error is: -3.6772E-10\n"
     ]
    }
   ],
   "source": [
    "dummy_plain = seal.Plaintext()\n",
    "encoder.encode(1, scale, dummy_plain)\n",
    "x7_enc = seal.Ciphertext()\n",
    "encryptor.encrypt(dummy_plain, x7_enc)\n",
    "\n",
    "exponent = 4\n",
    "square_and_multiply(x_enc, exponent, evaluator, relin_keys,scale, encoder, x7_enc)\n",
    "\n",
    "plain_result = seal.Plaintext()\n",
    "decryptor.decrypt(x7_enc, plain_result)\n",
    "result = encoder.decode_double(plain_result)[0]\n",
    "print(f\"Exponent is {exponent} leading to circuit with depth {ceil(log2(exponent))}\")\n",
    "print(f\"Encrypted result is: {result:.6E}\")\n",
    "print(f\"True result is: {x**exponent:.6E}\")\n",
    "print(f\"Error is: {(result-x**exponent):.4E}\")\n"
   ]
  },
  {
   "cell_type": "code",
   "execution_count": 278,
   "metadata": {},
   "outputs": [
    {
     "name": "stdout",
     "output_type": "stream",
     "text": [
      "<_sealapi_cpp.Ciphertext object at 0x7f9aa945c070>\n",
      "<_sealapi_cpp.Ciphertext object at 0x7f9a73851730>\n",
      "-0.6000000019478914\n",
      "-0.6000000019478914\n"
     ]
    }
   ],
   "source": [
    "# Test copy\n",
    "x_copy = bad_copy(x_enc, scale, evaluator, encoder)\n",
    "\n",
    "print(x_enc)\n",
    "print(x_copy)\n",
    "\n",
    "tmp_result = seal.Plaintext()\n",
    "decryptor.decrypt(x_copy, tmp_result)\n",
    "print(encoder.decode_double(tmp_result)[0])\n",
    "decryptor.decrypt(x_enc, tmp_result)\n",
    "print(encoder.decode_double(tmp_result)[0])\n"
   ]
  }
 ],
 "metadata": {
  "kernelspec": {
   "display_name": "Python 3.9.7 ('secure-ml-venv')",
   "language": "python",
   "name": "python3"
  },
  "language_info": {
   "codemirror_mode": {
    "name": "ipython",
    "version": 3
   },
   "file_extension": ".py",
   "mimetype": "text/x-python",
   "name": "python",
   "nbconvert_exporter": "python",
   "pygments_lexer": "ipython3",
   "version": "3.9.7"
  },
  "orig_nbformat": 4,
  "vscode": {
   "interpreter": {
    "hash": "51a1eaa9f94a8055b5f69fda38d5e2c63385f357b8ace33bd7f635ff4a855d53"
   }
  }
 },
 "nbformat": 4,
 "nbformat_minor": 2
}
