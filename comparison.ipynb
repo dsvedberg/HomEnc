{
 "cells": [
  {
   "cell_type": "markdown",
   "metadata": {},
   "source": [
    "Test comparison of two scalars using SEAL API from tenseal module. Parameters and setup is explained in 5_ckks_basics on the SEAL github page. "
   ]
  },
  {
   "cell_type": "code",
   "execution_count": 108,
   "metadata": {},
   "outputs": [],
   "source": [
    "import tenseal.sealapi as seal\n",
    "import util\n",
    "from math import log2,ceil"
   ]
  },
  {
   "cell_type": "code",
   "execution_count": 109,
   "metadata": {},
   "outputs": [
    {
     "name": "stdout",
     "output_type": "stream",
     "text": [
      "/\n",
      "|Encryption parameters: \n",
      "|\tscheme: CKKS\n",
      "|\tpoly_modulus_degree: 8192\n",
      "|\tcoeff_modulus_size: 218 (49 30 30 30 30 49) bits\n",
      "|\t Max Bit Count: 218\n"
     ]
    }
   ],
   "source": [
    "parms = seal.EncryptionParameters(seal.SCHEME_TYPE.CKKS)\n",
    "poly_modulus_degree = 8192\n",
    "parms.set_poly_modulus_degree(poly_modulus_degree)\n",
    "parms.set_coeff_modulus(seal.CoeffModulus.Create(poly_modulus_degree, [49, 30,30,30,30, 49]))\n",
    "scale = pow(2.0, 30)\n",
    "\n",
    "context = seal.SEALContext(parms,True,seal.SEC_LEVEL_TYPE.TC128)\n",
    "\n",
    "util.print_parameters(context)\n",
    "\n",
    "print(\"|\\t Max Bit Count: \" + str(seal.CoeffModulus.MaxBitCount(poly_modulus_degree, seal.SEC_LEVEL_TYPE.TC128)))"
   ]
  },
  {
   "cell_type": "markdown",
   "metadata": {},
   "source": [
    "Generate keys using SEAL keygenerator. Generate encoder, evaluator, encryptor and decryptor. "
   ]
  },
  {
   "cell_type": "code",
   "execution_count": 110,
   "metadata": {},
   "outputs": [
    {
     "name": "stdout",
     "output_type": "stream",
     "text": [
      "Number of slots: 4096\n"
     ]
    }
   ],
   "source": [
    "\n",
    "keygen = seal.KeyGenerator(context)\n",
    "secret_key = keygen.secret_key()\n",
    "\n",
    "public_key = seal.PublicKey()\n",
    "keygen.create_public_key(public_key)\n",
    "\n",
    "relin_keys = seal.RelinKeys()\n",
    "keygen.create_relin_keys(relin_keys)\n",
    "\n",
    "galois_keys = seal.GaloisKeys()\n",
    "keygen.create_galois_keys()\n",
    "\n",
    "encryptor = seal.Encryptor(context, public_key)\n",
    "evaluator = seal.Evaluator(context)\n",
    "decryptor = seal.Decryptor(context, secret_key)\n",
    "\n",
    "encoder = seal.CKKSEncoder(context)\n",
    "slot_count = seal.CKKSEncoder.slot_count(encoder)\n",
    "\n",
    "print('Number of slots: ' + str(slot_count))"
   ]
  },
  {
   "cell_type": "markdown",
   "metadata": {},
   "source": [
    "Let $x$ be the encrypted difference between two number in $a,b\\in[0,1]$, such that $x\\in[-1,1]$."
   ]
  },
  {
   "cell_type": "code",
   "execution_count": 134,
   "metadata": {},
   "outputs": [],
   "source": [
    "a=0.2;b=0.8\n",
    "x = a-b\n",
    "x_plain = seal.Plaintext()\n",
    "encoder.encode(x,scale, x_plain)\n",
    "\n",
    "x_enc = seal.Ciphertext()\n",
    "encryptor.encrypt(x_plain, x_enc)"
   ]
  },
  {
   "cell_type": "code",
   "execution_count": 112,
   "metadata": {},
   "outputs": [],
   "source": [
    "# Worst way of copying a ciphertext - multiply by plaintext 1. Consumes one ciphertext level. \n",
    "def bad_copy(cipher : seal.Ciphertext,scale : int, evaluator  : seal.Evaluator, encoder : seal.CKKSEncoder):\n",
    "    dummy_plain = seal.Plaintext()\n",
    "    encoder.encode(1, scale, dummy_plain)\n",
    "\n",
    "    copy = seal.Ciphertext()\n",
    "    evaluator.multiply_plain(cipher, dummy_plain, copy)\n",
    "\n",
    "    evaluator.rescale_to_next_inplace(copy)\n",
    "    \n",
    "    return copy \n"
   ]
  },
  {
   "cell_type": "markdown",
   "metadata": {},
   "source": [
    "Polynomial approximations of the comparison function using polynomials f_3(x), g_3(x) from \"Efficient Sorting of Homomorphic Encrypted Data with k-way Sorting Network\". Note that the argument to the function in this case will be the encrypted `difference`between $a$ and $b$, i.e., $a-b$. \n",
    "\n",
    "* $g_3(x) = (35x-35x^3+21x^5-5x^7)/2^4$\n",
    "\n",
    "* $f_3(x) = (4589x-16577x^3+25614x^5-12860x^7)/2^{10}$\n",
    "\n",
    "Comparison function is implemented in the paper as\n",
    "\n",
    "* $(x>y) := (f_3^{(d_f)}\\circ g_3^{(d_g)}(x-y) + 1)/2$\n",
    "\n",
    "$d_g$ and $d_f$ are not specified in the paper. Will begin testing with $d_f=d_g=1$. \n",
    "\n",
    "Note that the highest degree term is $x^7 = (x^2)^2(x^2*)x$, requiring four multiplications. We will begin by calculating the different temrs, \n",
    "- $x^7$\n",
    "- $x^5$\n",
    "- $x^3$"
   ]
  },
  {
   "cell_type": "code",
   "execution_count": 113,
   "metadata": {},
   "outputs": [],
   "source": [
    "# A function for controlling size and scale of ciphertext after multiplication\n",
    "def relinearize_and_rescale_inplace(cipher : seal.Ciphertext, eval : seal.Evaluator, relin_keys : seal.RelinKeys):\n",
    "    # Control size by relinearization\n",
    "    evaluator.relinearize_inplace(cipher, relin_keys)\n",
    "    # Control scale by rescaling\n",
    "    evaluator.rescale_to_next_inplace(cipher)\n",
    "\n",
    "# evaluator::exponentiate not supported for CKKS, write separate function for exponentiation, note that \"res\" \n",
    "# should be an encryption of 1 for this to work. \n",
    "def square_and_multiply(cipher : seal.Ciphertext, exp : int,  evaluator : seal.Evaluator, relin_keys : seal.RelinKeys,scale : int, encoder: seal.CKKSEncoder, res : seal.Ciphertext):  \n",
    "    if exp==0:\n",
    "        raise ValueError(\"Exponent cannot be zero --> transparent ciphertext.\")\n",
    "    binary_exp = bin(exp)[2:]\n",
    "    for char in binary_exp[::-1]:\n",
    "        if char=='1':\n",
    "            if res.data() == None:\n",
    "                raise ValueError(\"Ciphertext res must be initialized to 1.\")\n",
    "            else:\n",
    "                evaluator.multiply_inplace(res, cipher)\n",
    "                relinearize_and_rescale_inplace(res, evaluator, relin_keys)\n",
    "                evaluator.square_inplace(cipher)\n",
    "                relinearize_and_rescale_inplace(cipher, evaluator, relin_keys)\n",
    "        else:\n",
    "            evaluator.square_inplace(cipher)\n",
    "            relinearize_and_rescale_inplace(cipher,evaluator, relin_keys)\n",
    "            evaluator.mod_switch_to_next_inplace(res)\n",
    "\n",
    "# Divide by power of 2, divides cipher by 2**power\n",
    "def divByPo2(cipher: seal.Ciphertext, power : int):\n",
    "    cipher.scale = cipher.scale*(2**power)\n",
    "\n"
   ]
  },
  {
   "cell_type": "code",
   "execution_count": 130,
   "metadata": {},
   "outputs": [
    {
     "ename": "ValueError",
     "evalue": "encrypted_ntt and plain_ntt parameter mismatch",
     "output_type": "error",
     "traceback": [
      "\u001b[0;31m---------------------------------------------------------------------------\u001b[0m",
      "\u001b[0;31mValueError\u001b[0m                                Traceback (most recent call last)",
      "\u001b[1;32m/home/davsv512@user.uu.se/python/SealAPI_Tutorial/comparison.ipynb Cell 11\u001b[0m in \u001b[0;36m<module>\u001b[0;34m\u001b[0m\n\u001b[1;32m      <a href='vscode-notebook-cell://ssh-remote%2B130.238.57.42/home/davsv512%40user.uu.se/python/SealAPI_Tutorial/comparison.ipynb#X14sdnNjb2RlLXJlbW90ZQ%3D%3D?line=3'>4</a>\u001b[0m encryptor\u001b[39m.\u001b[39mencrypt(dummy_plain, x7_enc)\n\u001b[1;32m      <a href='vscode-notebook-cell://ssh-remote%2B130.238.57.42/home/davsv512%40user.uu.se/python/SealAPI_Tutorial/comparison.ipynb#X14sdnNjb2RlLXJlbW90ZQ%3D%3D?line=4'>5</a>\u001b[0m \u001b[39m# Have to waste one level to make square_and_multiply compatible \u001b[39;00m\n\u001b[1;32m      <a href='vscode-notebook-cell://ssh-remote%2B130.238.57.42/home/davsv512%40user.uu.se/python/SealAPI_Tutorial/comparison.ipynb#X14sdnNjb2RlLXJlbW90ZQ%3D%3D?line=5'>6</a>\u001b[0m \u001b[39m# copied ciphertext\u001b[39;00m\n\u001b[0;32m----> <a href='vscode-notebook-cell://ssh-remote%2B130.238.57.42/home/davsv512%40user.uu.se/python/SealAPI_Tutorial/comparison.ipynb#X14sdnNjb2RlLXJlbW90ZQ%3D%3D?line=6'>7</a>\u001b[0m x_copy \u001b[39m=\u001b[39m bad_copy(x_enc, scale, evaluator, encoder)\n\u001b[1;32m      <a href='vscode-notebook-cell://ssh-remote%2B130.238.57.42/home/davsv512%40user.uu.se/python/SealAPI_Tutorial/comparison.ipynb#X14sdnNjb2RlLXJlbW90ZQ%3D%3D?line=7'>8</a>\u001b[0m evaluator\u001b[39m.\u001b[39mmod_switch_to_next_inplace(x7_enc)\n\u001b[1;32m      <a href='vscode-notebook-cell://ssh-remote%2B130.238.57.42/home/davsv512%40user.uu.se/python/SealAPI_Tutorial/comparison.ipynb#X14sdnNjb2RlLXJlbW90ZQ%3D%3D?line=8'>9</a>\u001b[0m exponent \u001b[39m=\u001b[39m \u001b[39m4\u001b[39m\n",
      "\u001b[1;32m/home/davsv512@user.uu.se/python/SealAPI_Tutorial/comparison.ipynb Cell 11\u001b[0m in \u001b[0;36mbad_copy\u001b[0;34m(cipher, scale, evaluator, encoder)\u001b[0m\n\u001b[1;32m      <a href='vscode-notebook-cell://ssh-remote%2B130.238.57.42/home/davsv512%40user.uu.se/python/SealAPI_Tutorial/comparison.ipynb#X14sdnNjb2RlLXJlbW90ZQ%3D%3D?line=3'>4</a>\u001b[0m encoder\u001b[39m.\u001b[39mencode(\u001b[39m1\u001b[39m, scale, dummy_plain)\n\u001b[1;32m      <a href='vscode-notebook-cell://ssh-remote%2B130.238.57.42/home/davsv512%40user.uu.se/python/SealAPI_Tutorial/comparison.ipynb#X14sdnNjb2RlLXJlbW90ZQ%3D%3D?line=5'>6</a>\u001b[0m copy \u001b[39m=\u001b[39m seal\u001b[39m.\u001b[39mCiphertext()\n\u001b[0;32m----> <a href='vscode-notebook-cell://ssh-remote%2B130.238.57.42/home/davsv512%40user.uu.se/python/SealAPI_Tutorial/comparison.ipynb#X14sdnNjb2RlLXJlbW90ZQ%3D%3D?line=6'>7</a>\u001b[0m evaluator\u001b[39m.\u001b[39;49mmultiply_plain(cipher, dummy_plain, copy)\n\u001b[1;32m      <a href='vscode-notebook-cell://ssh-remote%2B130.238.57.42/home/davsv512%40user.uu.se/python/SealAPI_Tutorial/comparison.ipynb#X14sdnNjb2RlLXJlbW90ZQ%3D%3D?line=8'>9</a>\u001b[0m evaluator\u001b[39m.\u001b[39mrescale_to_next_inplace(copy)\n\u001b[1;32m     <a href='vscode-notebook-cell://ssh-remote%2B130.238.57.42/home/davsv512%40user.uu.se/python/SealAPI_Tutorial/comparison.ipynb#X14sdnNjb2RlLXJlbW90ZQ%3D%3D?line=10'>11</a>\u001b[0m \u001b[39mreturn\u001b[39;00m copy\n",
      "\u001b[0;31mValueError\u001b[0m: encrypted_ntt and plain_ntt parameter mismatch"
     ]
    }
   ],
   "source": [
    "dummy_plain = seal.Plaintext()\n",
    "encoder.encode(1, scale, dummy_plain)\n",
    "x7_enc = seal.Ciphertext()\n",
    "encryptor.encrypt(dummy_plain, x7_enc)\n",
    "# Have to waste one level to make square_and_multiply compatible \n",
    "# copied ciphertext\n",
    "x_copy = bad_copy(x_enc, scale, evaluator, encoder)\n",
    "evaluator.mod_switch_to_next_inplace(x7_enc)\n",
    "exponent = 4\n",
    "square_and_multiply(x_copy, exponent, evaluator, relin_keys,scale, encoder, x7_enc)\n",
    "\n",
    "plain_result = seal.Plaintext()\n",
    "decryptor.decrypt(x7_enc, plain_result)\n",
    "result = encoder.decode_double(plain_result)[0]\n",
    "print(f\"Exponent is {exponent} leading to circuit with depth {ceil(log2(exponent))}\")\n",
    "print(f\"Encrypted result is: {result:.6E}\")\n",
    "print(f\"True result is: {x**exponent:.6E}\")\n",
    "print(f\"Error is: {(result-x**exponent):.4E}\")"
   ]
  },
  {
   "cell_type": "markdown",
   "metadata": {},
   "source": [
    "Now we are redo to calculate all odd powers up to 7 using the `square_and_multiply` algorithm on \"copied\" ciphertexts, thereby avoiding changing the original. After calculating the powers, check the `parms_id()`. "
   ]
  },
  {
   "cell_type": "code",
   "execution_count": 137,
   "metadata": {},
   "outputs": [
    {
     "name": "stdout",
     "output_type": "stream",
     "text": [
      "x^7 chain_index():\t0\n",
      "x^5 chain_index():\t0\n",
      "x^3 chain_index():\t0\n",
      "x_copy chain_index():\t0\n"
     ]
    }
   ],
   "source": [
    "# First x^7\n",
    "dummy_plain = seal.Plaintext()\n",
    "encoder.encode(1, scale, dummy_plain)\n",
    "x7_enc = seal.Ciphertext()\n",
    "encryptor.encrypt(dummy_plain, x7_enc)\n",
    "# Have to waste one level to make square_and_multiply compatible \n",
    "# copied ciphertext\n",
    "x_copy = bad_copy(x_enc, scale, evaluator, encoder)\n",
    "evaluator.mod_switch_to_next_inplace(x7_enc)\n",
    "square_and_multiply(x_copy, 7, evaluator, relin_keys,scale, encoder, x7_enc)\n",
    "\n",
    "print(\"x^7 chain_index():\\t\" + str(context.get_context_data(x7_enc.parms_id()).chain_index()))\n",
    "\n",
    "# Then x^5 \n",
    "dummy_plain = seal.Plaintext()\n",
    "encoder.encode(1, scale, dummy_plain)\n",
    "x5_enc = seal.Ciphertext()\n",
    "encryptor.encrypt(dummy_plain, x5_enc)\n",
    "# Have to waste one level to make square_and_multiply compatible \n",
    "# copied ciphertext\n",
    "x_copy = bad_copy(x_enc, scale, evaluator, encoder)\n",
    "evaluator.mod_switch_to_next_inplace(x5_enc)\n",
    "square_and_multiply(x_copy, 5, evaluator, relin_keys,scale, encoder, x5_enc)\n",
    "\n",
    "print(\"x^5 chain_index():\\t\" + str(context.get_context_data(x7_enc.parms_id()).chain_index()))\n",
    "\n",
    "# Now x^3\n",
    "dummy_plain = seal.Plaintext()\n",
    "encoder.encode(1, scale, dummy_plain)\n",
    "x3_enc = seal.Ciphertext()\n",
    "encryptor.encrypt(dummy_plain, x3_enc)\n",
    "# Have to waste one level to make square_and_multiply compatible \n",
    "# copied ciphertext\n",
    "x_copy = bad_copy(x_enc, scale, evaluator, encoder)\n",
    "evaluator.mod_switch_to_next_inplace(x3_enc)\n",
    "square_and_multiply(x_copy, 3, evaluator, relin_keys,scale, encoder, x3_enc)\n",
    "\n",
    "print(\"x^3 chain_index():\\t\" + str(context.get_context_data(x7_enc.parms_id()).chain_index()))\n",
    "\n",
    "# Finally, use the copy of x for calculations. \n",
    "\n",
    "print(\"x_copy chain_index():\\t\" + str(context.get_context_data(x7_enc.parms_id()).chain_index()))"
   ]
  },
  {
   "cell_type": "code",
   "execution_count": 128,
   "metadata": {},
   "outputs": [
    {
     "name": "stdout",
     "output_type": "stream",
     "text": [
      "First data level parms_id():\n",
      "[18132249767353198549, 718253398100440172, 8509878810699523384, 11073798577702196591]\n",
      "Original parms_id():\n",
      "[18132249767353198549, 718253398100440172, 8509878810699523384, 11073798577702196591]\n",
      "Copy parms_id():\n",
      "[16690438325808200324, 16265141331075099064, 4540980657725171339, 14048225904169892080]\n",
      "\n",
      "Original scale\n",
      "1099511627776.0\n",
      "Modulus switched original parms_id():\n",
      "[16690438325808200324, 16265141331075099064, 4540980657725171339, 14048225904169892080]\n",
      "Modulus switched scale: \n",
      "1099511627776.0\n",
      "\n",
      "Primes in the coefficient modulus chain:\n",
      "[562949952798721, 1073430529, 1073479681, 1073643521, 1073692673, 562949952847873]\n",
      "\n",
      "Copy scale\n",
      "1099561960704.0117\n",
      "Product scale:\n",
      "1.208981161254238e+24\n",
      "Product scale after rescale:\n",
      "1126054540084388.0\n",
      "1073889293.751133\n",
      "-0.0005859369418990447\n",
      "-0.0005859367152752603\n"
     ]
    }
   ],
   "source": [
    "# Test bad_copy\n",
    "x_copy = bad_copy(x_enc, scale, evaluator, encoder)\n",
    "\n",
    "print(\"First data level parms_id():\")\n",
    "print(context.first_parms_id())\n",
    "print(\"Original parms_id():\")\n",
    "print(x_enc.parms_id())\n",
    "# Note that the parms_id() of the copy shows that this ciphertext\n",
    "# is a level lower than the original. \n",
    "print(\"Copy parms_id():\")\n",
    "print(x_copy.parms_id())\n",
    "\n",
    "# Print scale of original for later comparison\n",
    "print(\"\\nOriginal scale\")\n",
    "print(x_enc.scale)\n",
    "\n",
    "# Copy is at different level from original, this\n",
    "# can be changed with modulus switching, effectively\n",
    "# wasting one ciphertext level.  \n",
    "print(\"Modulus switched original parms_id():\")\n",
    "evaluator.mod_switch_to_next_inplace(x_enc)\n",
    "print(x_enc.parms_id())\n",
    "\n",
    "# Modulus switching does not change the scale\n",
    "print(\"Modulus switched scale: \")\n",
    "print(x_enc.scale)\n",
    "\n",
    "# What are the specific primes in the modulus chain? \n",
    "print(\"\\nPrimes in the coefficient modulus chain:\")\n",
    "modulus_chain = [modulus.value() for modulus in parms.coeff_modulus()]\n",
    "print(modulus_chain)\n",
    "\n",
    "# What is the exact scale of the copied ciphertext?\n",
    "print(\"\\nCopy scale\")\n",
    "print(x_copy.scale)\n",
    "\n",
    "# What happens when we operate on original and copy, \n",
    "# for illustration purposes only.\n",
    "test = seal.Ciphertext()\n",
    "evaluator.multiply(x_copy, x_enc, test)\n",
    "\n",
    "# Scale has now grown \n",
    "print(\"Product scale:\")\n",
    "print(test.scale)\n",
    "\n",
    "# and we want to rescale\n",
    "evaluator.rescale_to_next_inplace(test)\n",
    "print(\"Product scale after rescale:\")\n",
    "print(test.scale)\n",
    "\n",
    "# Note that the exact scale of the new rescaled product\n",
    "# which happens to be the square of the original cipher is\n",
    "# exactly the scale of the original (scale) times the scale\n",
    "# copy (scale**2)/modulus_chain[-2], which is then rescaled\n",
    "# (divided by the next prime in the chain), modulus_chain[-3]\n",
    "print(scale**3/modulus_chain[-2]/modulus_chain[-3])\n",
    "\n",
    "tmp_result = seal.Plaintext()\n",
    "decryptor.decrypt(x_copy, tmp_result)\n",
    "print(encoder.decode_double(tmp_result)[0])\n",
    "decryptor.decrypt(x_enc, tmp_result)\n",
    "print(encoder.decode_double(tmp_result)[0])"
   ]
  },
  {
   "cell_type": "code",
   "execution_count": 127,
   "metadata": {},
   "outputs": [
    {
     "name": "stdout",
     "output_type": "stream",
     "text": [
      "Ciphertext level before divByPo2: 4\n",
      "Ciphertext level after divByPo2: 4\n",
      "\n",
      "divByPo2 result: \n",
      "-0.0005859367152752603\n",
      "True value: \n",
      "-0.0005859375000000001\n"
     ]
    }
   ],
   "source": [
    "# Test divByPo2\n",
    "# Fresh ciphertext \n",
    "x_enc = seal.Ciphertext()\n",
    "encryptor.encrypt(x_plain, x_enc)\n",
    "\n",
    "power = 10\n",
    "print(\"Ciphertext level before divByPo2: \" + str(context.get_context_data(x_enc.parms_id()).chain_index()))\n",
    "divByPo2(x_enc, power)\n",
    "test_plain = seal.Plaintext()\n",
    "decryptor.decrypt(x_enc, test_plain)\n",
    "# The divByPo2 does not change the level of the ciphertext.\n",
    "print(\"Ciphertext level after divByPo2: \" + str(context.get_context_data(x_enc.parms_id()).chain_index()))\n",
    "\n",
    "print(\"\\ndivByPo2 result: \")\n",
    "print(encoder.decode_double(test_plain)[0])\n",
    "\n",
    "print(\"True value: \")\n",
    "print(x/2**power)\n"
   ]
  }
 ],
 "metadata": {
  "kernelspec": {
   "display_name": "Python 3.9.7 ('secure-ml-venv')",
   "language": "python",
   "name": "python3"
  },
  "language_info": {
   "codemirror_mode": {
    "name": "ipython",
    "version": 3
   },
   "file_extension": ".py",
   "mimetype": "text/x-python",
   "name": "python",
   "nbconvert_exporter": "python",
   "pygments_lexer": "ipython3",
   "version": "3.9.7"
  },
  "orig_nbformat": 4,
  "vscode": {
   "interpreter": {
    "hash": "51a1eaa9f94a8055b5f69fda38d5e2c63385f357b8ace33bd7f635ff4a855d53"
   }
  }
 },
 "nbformat": 4,
 "nbformat_minor": 2
}
