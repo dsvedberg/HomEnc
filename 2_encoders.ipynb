{
 "cells": [
  {
   "cell_type": "code",
   "execution_count": 1,
   "metadata": {},
   "outputs": [],
   "source": [
    "import tenseal.sealapi as seal\n",
    "import util"
   ]
  },
  {
   "cell_type": "code",
   "execution_count": 2,
   "metadata": {},
   "outputs": [],
   "source": [
    "parms = seal.EncryptionParameters(seal.SCHEME_TYPE.BFV)\n",
    "poly_modulus_degree = 8192\n",
    "parms.set_poly_modulus_degree(poly_modulus_degree)\n",
    "parms.set_coeff_modulus(seal.CoeffModulus.BFVDefault(poly_modulus_degree, seal.SEC_LEVEL_TYPE.TC128))"
   ]
  },
  {
   "cell_type": "markdown",
   "metadata": {},
   "source": [
    "To enable batching, we need to set the plain_modulus to be a prime number\n",
    "congruent to 1 modulo 2*poly_modulus_degree. Microsoft SEAL provides a helper\n",
    "method for finding such a prime. In this example we create a 20-bit prime\n",
    "that supports batching."
   ]
  },
  {
   "cell_type": "code",
   "execution_count": 3,
   "metadata": {},
   "outputs": [],
   "source": [
    "\n",
    "parms.set_plain_modulus(seal.PlainModulus.Batching(poly_modulus_degree, 20))"
   ]
  },
  {
   "cell_type": "markdown",
   "metadata": {},
   "source": [
    "Set context."
   ]
  },
  {
   "cell_type": "code",
   "execution_count": 4,
   "metadata": {},
   "outputs": [
    {
     "name": "stdout",
     "output_type": "stream",
     "text": [
      "/\n",
      "| Encryption parameters: \n",
      "|    scheme: BFV\n",
      "|    poly_modulus_degree: 8192\n",
      "|    coeff_modulus_size: 218 4343444444) bits\n",
      "|    plain_modulus: 1032193\n"
     ]
    }
   ],
   "source": [
    "context = seal.SEALContext(parms, True, seal.SEC_LEVEL_TYPE.TC128)\n",
    "util.print_parameters(context)"
   ]
  }
 ],
 "metadata": {
  "kernelspec": {
   "display_name": "Python 3.9.7 ('secure-ml-venv')",
   "language": "python",
   "name": "python3"
  },
  "language_info": {
   "codemirror_mode": {
    "name": "ipython",
    "version": 3
   },
   "file_extension": ".py",
   "mimetype": "text/x-python",
   "name": "python",
   "nbconvert_exporter": "python",
   "pygments_lexer": "ipython3",
   "version": "3.9.7"
  },
  "orig_nbformat": 4,
  "vscode": {
   "interpreter": {
    "hash": "51a1eaa9f94a8055b5f69fda38d5e2c63385f357b8ace33bd7f635ff4a855d53"
   }
  }
 },
 "nbformat": 4,
 "nbformat_minor": 2
}
