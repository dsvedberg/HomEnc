{
 "cells": [
  {
   "cell_type": "code",
   "execution_count": 23,
   "metadata": {},
   "outputs": [],
   "source": [
    "import tenseal.sealapi as seal\n",
    "from polynomial import enc_poly\n",
    "import util\n",
    "from numpy.polynomial.polynomial import polymul"
   ]
  },
  {
   "cell_type": "code",
   "execution_count": 24,
   "metadata": {},
   "outputs": [
    {
     "name": "stdout",
     "output_type": "stream",
     "text": [
      "/\n",
      "|Encryption parameters: \n",
      "|\tscheme: CKKS\n",
      "|\tpoly_modulus_degree: 16384\n",
      "|\tcoeff_modulus_size: 400 (60 35 35 35 35 35 35 35 35 60) bits\n",
      "|\t Max Bit Count: 438\n"
     ]
    }
   ],
   "source": [
    "parms = seal.EncryptionParameters(seal.SCHEME_TYPE.CKKS)\n",
    "poly_modulus_degree = 2**14\n",
    "mod_pow = 35\n",
    "parms.set_poly_modulus_degree(poly_modulus_degree)\n",
    "parms.set_coeff_modulus(seal.CoeffModulus.Create(poly_modulus_degree, [60,mod_pow,mod_pow, mod_pow,mod_pow,mod_pow,mod_pow,mod_pow,mod_pow,60]))\n",
    "scale = pow(2.0, mod_pow)\n",
    "\n",
    "# What are the specific primes in the modulus chain? These help calculate exact scales \n",
    "# of rescaled ciphertexts later on in this notebook. \n",
    "primes = [modulus.value() for modulus in parms.coeff_modulus()]\n",
    "\n",
    "context = seal.SEALContext(parms,True,seal.SEC_LEVEL_TYPE.TC128)\n",
    "\n",
    "util.print_parameters(context)\n",
    "\n",
    "print(\"|\\t Max Bit Count: \" + str(seal.CoeffModulus.MaxBitCount(poly_modulus_degree, seal.SEC_LEVEL_TYPE.TC128)))"
   ]
  },
  {
   "cell_type": "markdown",
   "metadata": {},
   "source": [
    "All keys geneated using `seal::KeyGenerator`. We also need an `encoder`, `evaluator`, `encryptor`, and `decryptor`. "
   ]
  },
  {
   "cell_type": "code",
   "execution_count": 25,
   "metadata": {},
   "outputs": [
    {
     "name": "stdout",
     "output_type": "stream",
     "text": [
      "Number of slots: 8192\n"
     ]
    }
   ],
   "source": [
    "\n",
    "keygen = seal.KeyGenerator(context)\n",
    "secret_key = keygen.secret_key()\n",
    "\n",
    "public_key = seal.PublicKey()\n",
    "keygen.create_public_key(public_key)\n",
    "\n",
    "relin_keys = seal.RelinKeys()\n",
    "keygen.create_relin_keys(relin_keys)\n",
    "\n",
    "galois_keys = seal.GaloisKeys()\n",
    "keygen.create_galois_keys()\n",
    "\n",
    "encryptor = seal.Encryptor(context, public_key)\n",
    "evaluator = seal.Evaluator(context)\n",
    "decryptor = seal.Decryptor(context, secret_key)\n",
    "\n",
    "encoder = seal.CKKSEncoder(context)\n",
    "slot_count = seal.CKKSEncoder.slot_count(encoder)\n",
    "\n",
    "print('Number of slots: ' + str(slot_count))"
   ]
  },
  {
   "cell_type": "markdown",
   "metadata": {},
   "source": [
    "Let $x$ be the encrypted difference between two number in $a,b\\in[0,1]$, such that $x\\in[-1,1]$."
   ]
  },
  {
   "cell_type": "code",
   "execution_count": 26,
   "metadata": {},
   "outputs": [],
   "source": [
    "a=0.2;b=0.8\n",
    "\n",
    "x = a-b\n",
    "x_plain = seal.Plaintext()\n",
    "encoder.encode(x,scale, x_plain)\n",
    "\n",
    "x_enc = seal.Ciphertext()\n",
    "encryptor.encrypt(x_plain, x_enc)"
   ]
  },
  {
   "cell_type": "markdown",
   "metadata": {},
   "source": [
    "The polynomial we want to calculate is\n",
    "* $g(x) = (35x-35x^3+21x^5-5x^7)/2^4$\n",
    "\n",
    "which is done using the function `enc_poly` from the `polynomial` module. "
   ]
  },
  {
   "cell_type": "code",
   "execution_count": 27,
   "metadata": {},
   "outputs": [],
   "source": [
    "coeffs = [35, -35, 21, -5]\n",
    "degrees = [1, 3, 5, 7]\n",
    "\n",
    "power = 4\n",
    "\n",
    "enc_g_x = enc_poly(x_enc, coeffs, degrees, power, evaluator, context, encoder,  parms, relin_keys, encryptor)"
   ]
  },
  {
   "cell_type": "markdown",
   "metadata": {},
   "source": [
    "Note that the resulting ciphertext has a different scale, $\\tilde{\\Delta}$, compared to the bit-sizes of the modulus chain. This means we can not achieve scale stabilization. \n",
    "To compensate for this, manually change the scale of the resulting CT \n",
    "such that it matches the original scale, $\\Delta$. \n",
    "\n",
    "- Note that `enc_g_x` is an encryption of $\\tilde{\\Delta}g(x)$ with scale $\\tilde{\\Delta}$\n",
    "- Multiplying with plaintext $\\Delta/\\tilde{\\Delta}$ which has scale $\\tilde{\\Delta}$ will yield an encryption of $\\Delta g(x)$ with scale $\\tilde{\\Delta}^2$\n",
    "\n",
    "Multiplying by the plain factor $\\Delta/\\tilde{\\Delta}$ and manually changing the scale gives an encryption of $\\Delta g(x)$ with the correct scale factor."
   ]
  },
  {
   "cell_type": "code",
   "execution_count": 28,
   "metadata": {},
   "outputs": [
    {
     "name": "stdout",
     "output_type": "stream",
     "text": [
      "\tEnc. result:\t-0.9330960635156593\n",
      "\tPlain result:\t-0.933312\n",
      "\tScale:\t549887427425.6552\n",
      "\tCh. ind:\t4\n",
      "\tEnc. result:\t-0.9333817853662447\n",
      "\tPlain result:\t-0.933312\n",
      "\tScale:\t34359738368.0\n",
      "\tCh. ind:\t3\n"
     ]
    }
   ],
   "source": [
    "util.print_info(enc_g_x, decryptor, context, encoder, (35*x-35*x**3+21*x**5-5*x**7)/2**4)\n",
    "\n",
    "# Code below introduces additional error. Question is if \n",
    "# this added error in practice eliminates the benefit\n",
    "# of using the composite polynomial. \n",
    "\n",
    "scaling_factor = scale/enc_g_x.scale/2**power\n",
    "\n",
    "plain_factor = seal.Plaintext()\n",
    "encoder.encode(scaling_factor, enc_g_x.scale, plain_factor)\n",
    "evaluator.mod_switch_to_inplace(plain_factor, enc_g_x.parms_id())\n",
    "\n",
    "evaluator.multiply_plain_inplace(enc_g_x, plain_factor)\n",
    "evaluator.rescale_to_next_inplace(enc_g_x)\n",
    "enc_g_x.scale = scale\n",
    "\n",
    "util.print_info(enc_g_x, decryptor, context, encoder, (35*x-35*x**3+21*x**5-5*x**7)/2**4)"
   ]
  },
  {
   "cell_type": "markdown",
   "metadata": {},
   "source": [
    "Now we are ready to calculate $f(g(x))$ where \n",
    "* $f(x) = (4589x-16577x^3+25614x^5-12860x^7)/2^{10}$"
   ]
  },
  {
   "cell_type": "code",
   "execution_count": 29,
   "metadata": {},
   "outputs": [
    {
     "ename": "ValueError",
     "evalue": "scale out of bounds",
     "output_type": "error",
     "traceback": [
      "\u001b[0;31m---------------------------------------------------------------------------\u001b[0m",
      "\u001b[0;31mValueError\u001b[0m                                Traceback (most recent call last)",
      "\u001b[1;32m/home/davsv512@user.uu.se/python/SealAPI_Tutorial/test_polynomial.ipynb Cell 12\u001b[0m in \u001b[0;36m<module>\u001b[0;34m\u001b[0m\n\u001b[1;32m      <a href='vscode-notebook-cell://ssh-remote%2B130.238.57.42/home/davsv512%40user.uu.se/python/SealAPI_Tutorial/test_polynomial.ipynb#X14sdnNjb2RlLXJlbW90ZQ%3D%3D?line=0'>1</a>\u001b[0m coeffs \u001b[39m=\u001b[39m [\u001b[39m4589\u001b[39m, \u001b[39m-\u001b[39m\u001b[39m16577\u001b[39m, \u001b[39m25614\u001b[39m, \u001b[39m-\u001b[39m\u001b[39m12860\u001b[39m]\n\u001b[1;32m      <a href='vscode-notebook-cell://ssh-remote%2B130.238.57.42/home/davsv512%40user.uu.se/python/SealAPI_Tutorial/test_polynomial.ipynb#X14sdnNjb2RlLXJlbW90ZQ%3D%3D?line=1'>2</a>\u001b[0m power \u001b[39m=\u001b[39m \u001b[39m10\u001b[39m\n\u001b[0;32m----> <a href='vscode-notebook-cell://ssh-remote%2B130.238.57.42/home/davsv512%40user.uu.se/python/SealAPI_Tutorial/test_polynomial.ipynb#X14sdnNjb2RlLXJlbW90ZQ%3D%3D?line=4'>5</a>\u001b[0m enc_compare \u001b[39m=\u001b[39m enc_poly(enc_g_x, coeffs, degrees, power, evaluator, context, encoder, parms, relin_keys, encryptor)\n",
      "File \u001b[0;32m~/python/SealAPI_Tutorial/polynomial.py:48\u001b[0m, in \u001b[0;36menc_poly\u001b[0;34m(arg, coefficients, degrees, power, evaluator, context, encoder, parms, relin_keys, encryptor)\u001b[0m\n\u001b[1;32m     44\u001b[0m     \u001b[39m# Note that we need to waste at least one CT-level when \u001b[39;00m\n\u001b[1;32m     45\u001b[0m     \u001b[39m# using this copy method. \u001b[39;00m\n\u001b[1;32m     46\u001b[0m     evaluator\u001b[39m.\u001b[39mmod_switch_to_inplace(x_deg, arg_copy\u001b[39m.\u001b[39mparms_id())\n\u001b[0;32m---> 48\u001b[0m     square_and_multiply(arg_copy, exponent, evaluator, relin_keys, original_scale, encoder, x_deg)\n\u001b[1;32m     49\u001b[0m     arg_degrees\u001b[39m.\u001b[39mappend(x_deg)\n\u001b[1;32m     51\u001b[0m \u001b[39m#-------------------- STEP 2 -----------------------#\u001b[39;00m\n\u001b[1;32m     52\u001b[0m \u001b[39m# We can now \"multiply\" by the PT coefficient, this is done by \u001b[39;00m\n\u001b[1;32m     53\u001b[0m \u001b[39m# by repeatedly adding CT to avoid multiplications. \u001b[39;00m\n\u001b[1;32m     54\u001b[0m \u001b[39m# (inspired by sorting article using CKKS)\u001b[39;00m\n",
      "File \u001b[0;32m~/python/SealAPI_Tutorial/polynomial.py:124\u001b[0m, in \u001b[0;36msquare_and_multiply\u001b[0;34m(cipher, exp, evaluator, relin_keys, scale, encoder, res)\u001b[0m\n\u001b[1;32m    122\u001b[0m     \u001b[39mraise\u001b[39;00m \u001b[39mValueError\u001b[39;00m(\u001b[39m\"\u001b[39m\u001b[39mCiphertext res must be initialized to 1.\u001b[39m\u001b[39m\"\u001b[39m)\n\u001b[1;32m    123\u001b[0m \u001b[39melse\u001b[39;00m:\n\u001b[0;32m--> 124\u001b[0m     evaluator\u001b[39m.\u001b[39;49mmultiply_inplace(res, cipher)\n\u001b[1;32m    125\u001b[0m     relinearize_and_rescale_inplace(res, evaluator, relin_keys)\n\u001b[1;32m    126\u001b[0m     evaluator\u001b[39m.\u001b[39msquare_inplace(cipher)\n",
      "\u001b[0;31mValueError\u001b[0m: scale out of bounds"
     ]
    }
   ],
   "source": [
    "# Not working, unsure why scale is out of bound. With this method,\n",
    "# we should achieve scale stabilization. Check scale stabilization \n",
    "# in square and multiply. \n",
    "coeffs = [4589, -16577, 25614, -12860]\n",
    "power = 10\n",
    "\n",
    "\n",
    "enc_compare = enc_poly(enc_g_x, coeffs, degrees, power, evaluator, context, encoder, parms, relin_keys, encryptor)"
   ]
  },
  {
   "cell_type": "code",
   "execution_count": null,
   "metadata": {},
   "outputs": [
    {
     "name": "stdout",
     "output_type": "stream",
     "text": [
      "\tEnc. result:\t-0.9330961981934047\n",
      "\tPlain result:\t-0.933312\n",
      "\tScale:\t549887427425.6552\n",
      "\tCh. ind:\t3\n"
     ]
    }
   ],
   "source": [
    "util.print_info(enc_compare, decryptor, context, encoder, (35*x-35*x**3+21*x**5-5*x**7)/2**4)"
   ]
  }
 ],
 "metadata": {
  "kernelspec": {
   "display_name": "Python 3.9.7 ('secure-ml-venv')",
   "language": "python",
   "name": "python3"
  },
  "language_info": {
   "codemirror_mode": {
    "name": "ipython",
    "version": 3
   },
   "file_extension": ".py",
   "mimetype": "text/x-python",
   "name": "python",
   "nbconvert_exporter": "python",
   "pygments_lexer": "ipython3",
   "version": "3.9.7"
  },
  "orig_nbformat": 4,
  "vscode": {
   "interpreter": {
    "hash": "51a1eaa9f94a8055b5f69fda38d5e2c63385f357b8ace33bd7f635ff4a855d53"
   }
  }
 },
 "nbformat": 4,
 "nbformat_minor": 2
}
