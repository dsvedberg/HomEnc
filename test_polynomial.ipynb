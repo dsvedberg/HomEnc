{
 "cells": [
  {
   "cell_type": "code",
   "execution_count": 1,
   "metadata": {},
   "outputs": [],
   "source": [
    "import tenseal.sealapi as seal\n",
    "from polynomial import enc_poly\n",
    "import util"
   ]
  },
  {
   "cell_type": "code",
   "execution_count": 2,
   "metadata": {},
   "outputs": [
    {
     "name": "stdout",
     "output_type": "stream",
     "text": [
      "/\n",
      "|Encryption parameters: \n",
      "|\tscheme: CKKS\n",
      "|\tpoly_modulus_degree: 16384\n",
      "|\tcoeff_modulus_size: 365 (60 35 35 35 35 35 35 35 60) bits\n",
      "|\t Max Bit Count: 438\n"
     ]
    }
   ],
   "source": [
    "parms = seal.EncryptionParameters(seal.SCHEME_TYPE.CKKS)\n",
    "poly_modulus_degree = 2**14\n",
    "mod_pow = 35\n",
    "parms.set_poly_modulus_degree(poly_modulus_degree)\n",
    "parms.set_coeff_modulus(seal.CoeffModulus.Create(poly_modulus_degree, [60,mod_pow, mod_pow,mod_pow,mod_pow,mod_pow,mod_pow,mod_pow,60]))\n",
    "scale = pow(2.0, mod_pow)\n",
    "\n",
    "# What are the specific primes in the modulus chain? These help calculate exact scales \n",
    "# of rescaled ciphertexts later on in this notebook. \n",
    "primes = [modulus.value() for modulus in parms.coeff_modulus()]\n",
    "\n",
    "context = seal.SEALContext(parms,True,seal.SEC_LEVEL_TYPE.TC128)\n",
    "\n",
    "util.print_parameters(context)\n",
    "\n",
    "print(\"|\\t Max Bit Count: \" + str(seal.CoeffModulus.MaxBitCount(poly_modulus_degree, seal.SEC_LEVEL_TYPE.TC128)))"
   ]
  },
  {
   "cell_type": "markdown",
   "metadata": {},
   "source": [
    "All keys geneated using `seal::KeyGenerator`. We also need an `encoder`, `evaluator`, `encryptor`, and `decryptor`. "
   ]
  },
  {
   "cell_type": "code",
   "execution_count": 3,
   "metadata": {},
   "outputs": [
    {
     "name": "stdout",
     "output_type": "stream",
     "text": [
      "Number of slots: 8192\n"
     ]
    }
   ],
   "source": [
    "\n",
    "keygen = seal.KeyGenerator(context)\n",
    "secret_key = keygen.secret_key()\n",
    "\n",
    "public_key = seal.PublicKey()\n",
    "keygen.create_public_key(public_key)\n",
    "\n",
    "relin_keys = seal.RelinKeys()\n",
    "keygen.create_relin_keys(relin_keys)\n",
    "\n",
    "galois_keys = seal.GaloisKeys()\n",
    "keygen.create_galois_keys()\n",
    "\n",
    "encryptor = seal.Encryptor(context, public_key)\n",
    "evaluator = seal.Evaluator(context)\n",
    "decryptor = seal.Decryptor(context, secret_key)\n",
    "\n",
    "encoder = seal.CKKSEncoder(context)\n",
    "slot_count = seal.CKKSEncoder.slot_count(encoder)\n",
    "\n",
    "print('Number of slots: ' + str(slot_count))"
   ]
  },
  {
   "cell_type": "markdown",
   "metadata": {},
   "source": [
    "Let $x$ be the encrypted difference between two number in $a,b\\in[0,1]$, such that $x\\in[-1,1]$."
   ]
  },
  {
   "cell_type": "code",
   "execution_count": 4,
   "metadata": {},
   "outputs": [],
   "source": [
    "a=0.2;b=0.8\n",
    "\n",
    "x = a-b\n",
    "x_plain = seal.Plaintext()\n",
    "encoder.encode(x,scale, x_plain)\n",
    "\n",
    "x_enc = seal.Ciphertext()\n",
    "encryptor.encrypt(x_plain, x_enc)"
   ]
  },
  {
   "cell_type": "markdown",
   "metadata": {},
   "source": [
    "The polynomial we want to calculate is\n",
    "* $g(x) = (35x-35x^3+21x^5-5x^7)/2^4$\n",
    "\n",
    "which is done using the function `enc_poly` from the `polynomial` module. "
   ]
  },
  {
   "cell_type": "code",
   "execution_count": 5,
   "metadata": {},
   "outputs": [
    {
     "name": "stdout",
     "output_type": "stream",
     "text": [
      "\tEnc. result:\t-1.3125002771397094\n",
      "\tPlain result:\t-1.3125000000000002\n",
      "\tScale:\t549769445602.0032\n",
      "\tCh. ind:\t5\n",
      "\tEnc. result:\t0.4725000070435594\n",
      "\tPlain result:\t0.47250000000000025\n",
      "\tScale:\t549803526483.5916\n",
      "\tCh. ind:\t4\n",
      "\tEnc. result:\t-0.10206028426260469\n",
      "\tPlain result:\t-0.10206000000000007\n",
      "\tScale:\t549853341343.267\n",
      "\tCh. ind:\t3\n",
      "\tEnc. result:\t0.008747992554337947\n",
      "\tPlain result:\t0.00874800000000001\n",
      "\tScale:\t549887427425.6552\n",
      "\tCh. ind:\t3\n"
     ]
    }
   ],
   "source": [
    "coeffs = [35, -35, 21, -5]\n",
    "degrees = [1, 3, 5, 7]\n",
    "power = 4\n",
    "\n",
    "enc_compare = enc_poly(x_enc, coeffs, degrees, power, evaluator, context, encoder,  parms, relin_keys, encryptor)"
   ]
  },
  {
   "cell_type": "code",
   "execution_count": 6,
   "metadata": {},
   "outputs": [
    {
     "name": "stdout",
     "output_type": "stream",
     "text": [
      "\tEnc. result:\t-0.9330967234166608\n",
      "\tPlain result:\t-0.933312\n",
      "\tScale:\t549887427425.6552\n",
      "\tCh. ind:\t3\n"
     ]
    }
   ],
   "source": [
    "util.print_info(enc_compare, decryptor, context, encoder, (35*x-35*x**3+21*x**5-5*x**7)/2**4)"
   ]
  }
 ],
 "metadata": {
  "kernelspec": {
   "display_name": "Python 3.9.7 ('secure-ml-venv')",
   "language": "python",
   "name": "python3"
  },
  "language_info": {
   "codemirror_mode": {
    "name": "ipython",
    "version": 3
   },
   "file_extension": ".py",
   "mimetype": "text/x-python",
   "name": "python",
   "nbconvert_exporter": "python",
   "pygments_lexer": "ipython3",
   "version": "3.9.7"
  },
  "orig_nbformat": 4,
  "vscode": {
   "interpreter": {
    "hash": "51a1eaa9f94a8055b5f69fda38d5e2c63385f357b8ace33bd7f635ff4a855d53"
   }
  }
 },
 "nbformat": 4,
 "nbformat_minor": 2
}
