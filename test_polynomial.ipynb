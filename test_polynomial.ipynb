{
 "cells": [
  {
   "cell_type": "code",
   "execution_count": 19,
   "metadata": {},
   "outputs": [],
   "source": [
    "import tenseal.sealapi as seal\n",
    "from polynomial import enc_poly\n",
    "import util\n",
    "from numpy.polynomial.polynomial import polymul"
   ]
  },
  {
   "cell_type": "code",
   "execution_count": 20,
   "metadata": {},
   "outputs": [
    {
     "name": "stdout",
     "output_type": "stream",
     "text": [
      "/\n",
      "|Encryption parameters: \n",
      "|\tscheme: CKKS\n",
      "|\tpoly_modulus_degree: 32768\n",
      "|\tcoeff_modulus_size: 670 (60 50 50 50 50 50 50 50 50 50 50 50 60) bits\n",
      "|\t Max Bit Count: 881\n"
     ]
    }
   ],
   "source": [
    "parms = seal.EncryptionParameters(seal.SCHEME_TYPE.CKKS)\n",
    "# How large should plaintexts be? This determines number of available levels for a certain bit size, number of data slots and security. \n",
    "poly_modulus_degree = 2**15\n",
    "# Bit size for primes in modulus chain. Larger -> more available options, slower performance. \n",
    "bit_size = 50\n",
    "# How many data levels do we need?\n",
    "levels = 11\n",
    "# Create modulus chain\n",
    "mod_chain_bit_size = [bit_size for k in range(levels)]\n",
    "# First and last primes are \"special\" in SEAL, and should always be 60 bit primes.  \n",
    "mod_chain_bit_size.insert(0,60)\n",
    "mod_chain_bit_size.append(60)\n",
    "\n",
    "# Set parameters (this involves involves finding candidate primes for the modulus chain)\n",
    "parms.set_poly_modulus_degree(poly_modulus_degree)\n",
    "parms.set_coeff_modulus(seal.CoeffModulus.Create(poly_modulus_degree, mod_chain_bit_size))\n",
    "scale = pow(2.0, bit_size)\n",
    "\n",
    "# What are the specific primes in the modulus chain? These help calculate exact scales \n",
    "# of rescaled ciphertexts later on in this notebook. \n",
    "primes = [modulus.value() for modulus in parms.coeff_modulus()]\n",
    "\n",
    "# The creation of a SEAL context does not include a check to see if parameter settings\n",
    "# are valid. This is done later during key creation. \n",
    "context = seal.SEALContext(parms,True,seal.SEC_LEVEL_TYPE.TC128)\n",
    "\n",
    "util.print_parameters(context)\n",
    "\n",
    "print(\"|\\t Max Bit Count: \" + str(seal.CoeffModulus.MaxBitCount(poly_modulus_degree, seal.SEC_LEVEL_TYPE.TC128)))"
   ]
  },
  {
   "cell_type": "markdown",
   "metadata": {},
   "source": [
    "All keys geneated using `seal::KeyGenerator`. We also need an `encoder`, `evaluator`, `encryptor`, and `decryptor`. "
   ]
  },
  {
   "cell_type": "code",
   "execution_count": 21,
   "metadata": {},
   "outputs": [
    {
     "name": "stdout",
     "output_type": "stream",
     "text": [
      "Number of slots: 16384\n"
     ]
    }
   ],
   "source": [
    "\n",
    "keygen = seal.KeyGenerator(context)\n",
    "secret_key = keygen.secret_key()\n",
    "\n",
    "public_key = seal.PublicKey()\n",
    "keygen.create_public_key(public_key)\n",
    "\n",
    "relin_keys = seal.RelinKeys()\n",
    "keygen.create_relin_keys(relin_keys)\n",
    "\n",
    "galois_keys = seal.GaloisKeys()\n",
    "keygen.create_galois_keys()\n",
    "\n",
    "encryptor = seal.Encryptor(context, public_key)\n",
    "evaluator = seal.Evaluator(context)\n",
    "decryptor = seal.Decryptor(context, secret_key)\n",
    "\n",
    "encoder = seal.CKKSEncoder(context)\n",
    "slot_count = seal.CKKSEncoder.slot_count(encoder)\n",
    "\n",
    "print('Number of slots: ' + str(slot_count))"
   ]
  },
  {
   "cell_type": "markdown",
   "metadata": {},
   "source": [
    "Let $x$ be the encrypted difference between two number in $a,b\\in[0,1]$, such that $x\\in[-1,1]$."
   ]
  },
  {
   "cell_type": "code",
   "execution_count": 22,
   "metadata": {},
   "outputs": [],
   "source": [
    "a=0.2;b=0.8\n",
    "\n",
    "x = a-b\n",
    "x_plain = seal.Plaintext()\n",
    "encoder.encode(x,scale, x_plain)\n",
    "\n",
    "x_enc = seal.Ciphertext()\n",
    "encryptor.encrypt(x_plain, x_enc)"
   ]
  },
  {
   "cell_type": "markdown",
   "metadata": {},
   "source": [
    "The polynomial we want to calculate is\n",
    "* $g(x) = (35x-35x^3+21x^5-5x^7)/2^4$\n",
    "\n",
    "which is done using the function `enc_poly` from the `polynomial` module. "
   ]
  },
  {
   "cell_type": "code",
   "execution_count": 23,
   "metadata": {},
   "outputs": [],
   "source": [
    "coeffs = [35, -35, 21, -5]\n",
    "degrees = [1, 3, 5, 7]\n",
    "\n",
    "power = 4\n",
    "\n",
    "enc_g_x = enc_poly(x_enc, coeffs,degrees, power, evaluator, context, encoder,  parms, relin_keys, encryptor)"
   ]
  },
  {
   "cell_type": "markdown",
   "metadata": {},
   "source": [
    "Note that the resulting ciphertext has a different scale, $\\tilde{\\Delta}$, compared to the bit-sizes of the modulus chain. This means we can not achieve scale stabilization. \n",
    "To compensate for this, manually change the scale of the resulting CT \n",
    "such that it matches the original scale, $\\Delta$. \n",
    "\n",
    "- Note that `enc_g_x` is an encryption of $\\tilde{\\Delta}g(x)$ with scale $\\tilde{\\Delta}$\n",
    "- Multiplying with plaintext $\\Delta/\\tilde{\\Delta}$ which has scale $\\tilde{\\Delta}$ will yield an encryption of $\\Delta g(x)$ with scale $\\tilde{\\Delta}^2$\n",
    "\n",
    "Multiplying by the plain factor $\\Delta/\\tilde{\\Delta}$ and manually changing the scale gives an encryption of $\\Delta g(x)$ with the correct scale factor."
   ]
  },
  {
   "cell_type": "code",
   "execution_count": 24,
   "metadata": {},
   "outputs": [
    {
     "name": "stdout",
     "output_type": "stream",
     "text": [
      "\tEnc. result:\t-0.9333119703141972\n",
      "\tPlain result:\t-0.933312\n",
      "\tScale:\t1.8014399111364388e+16\n",
      "\tCh. ind:\t7\n",
      "\tEnc. result:\t-0.93331200541354\n",
      "\tPlain result:\t-0.933312\n",
      "\tScale:\t1125899906842624.0\n",
      "\tCh. ind:\t6\n"
     ]
    }
   ],
   "source": [
    "util.print_info(enc_g_x, decryptor, context, encoder, (35*x-35*x**3+21*x**5-5*x**7)/2**4)\n",
    "\n",
    "# Code below introduces additional error. Question is if \n",
    "# this added error in practice eliminates the benefit\n",
    "# of using the composite polynomial. \n",
    "\n",
    "scaling_factor = scale/enc_g_x.scale/2**power\n",
    "\n",
    "plain_factor = seal.Plaintext()\n",
    "encoder.encode(scaling_factor, enc_g_x.scale, plain_factor)\n",
    "evaluator.mod_switch_to_inplace(plain_factor, enc_g_x.parms_id())\n",
    "\n",
    "evaluator.multiply_plain_inplace(enc_g_x, plain_factor)\n",
    "evaluator.rescale_to_next_inplace(enc_g_x)\n",
    "enc_g_x.scale = scale\n",
    "\n",
    "plain_g_x = (35*x-35*x**3+21*x**5-5*x**7)/2**4\n",
    "util.print_info(enc_g_x, decryptor, context, encoder, (35*x-35*x**3+21*x**5-5*x**7)/2**4)"
   ]
  },
  {
   "cell_type": "markdown",
   "metadata": {},
   "source": [
    "Now we are ready to calculate $f(g(x))$ where \n",
    "* $f(x) = (4589x-16577x^3+25614x^5-12860x^7)/2^{10}$"
   ]
  },
  {
   "cell_type": "code",
   "execution_count": 25,
   "metadata": {},
   "outputs": [],
   "source": [
    "# Not working, unsure why scale is out of bound. With this method,\n",
    "# we should achieve scale stabilization. Check scale stabilization \n",
    "# in square and multiply. \n",
    "coeffs = [4589, -16577, 25614, -12860]\n",
    "power = 10\n",
    "\n",
    "plain_f_g_x = (4589*plain_g_x-16577*plain_g_x**3+25614*plain_g_x**5-12860*plain_g_x**7)/2**10\n",
    "enc_compare = enc_poly(enc_g_x, coeffs, degrees, power, evaluator, context, encoder, parms, relin_keys, encryptor)"
   ]
  },
  {
   "cell_type": "code",
   "execution_count": 26,
   "metadata": {},
   "outputs": [
    {
     "name": "stdout",
     "output_type": "stream",
     "text": [
      "\tEnc. result:\t-0.9885385047226911\n",
      "\tPlain result:\t-0.9885385398999578\n",
      "\tScale:\t1.152921615000919e+18\n",
      "\tCh. ind:\t2\n"
     ]
    }
   ],
   "source": [
    "util.print_info(enc_compare, decryptor, context, encoder, plain_f_g_x)"
   ]
  },
  {
   "cell_type": "code",
   "execution_count": null,
   "metadata": {},
   "outputs": [],
   "source": []
  }
 ],
 "metadata": {
  "kernelspec": {
   "display_name": "Python 3.9.7 ('secure-ml-venv')",
   "language": "python",
   "name": "python3"
  },
  "language_info": {
   "codemirror_mode": {
    "name": "ipython",
    "version": 3
   },
   "file_extension": ".py",
   "mimetype": "text/x-python",
   "name": "python",
   "nbconvert_exporter": "python",
   "pygments_lexer": "ipython3",
   "version": "3.9.7"
  },
  "orig_nbformat": 4,
  "vscode": {
   "interpreter": {
    "hash": "51a1eaa9f94a8055b5f69fda38d5e2c63385f357b8ace33bd7f635ff4a855d53"
   }
  }
 },
 "nbformat": 4,
 "nbformat_minor": 2
}
