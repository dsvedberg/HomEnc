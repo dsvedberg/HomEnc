{
 "cells": [
  {
   "cell_type": "code",
   "execution_count": 34,
   "metadata": {},
   "outputs": [],
   "source": [
    "import tenseal.sealapi as seal\n",
    "import util\n",
    "import numpy as np\n",
    "import math"
   ]
  },
  {
   "cell_type": "markdown",
   "metadata": {},
   "source": [
    "In this example we demonstrate evaluating a polynomial function\n",
    "PI*x^3 + 0.4*x + 1\n",
    "on encrypted floating-point input data x for a set of 4096 equidistant points\n",
    "in the interval [0, 1]. This example demonstrates many of the main features\n",
    "of the CKKS scheme, but also the challenges in using it.\n",
    "We start by setting up the CKKS scheme."
   ]
  },
  {
   "cell_type": "code",
   "execution_count": 2,
   "metadata": {},
   "outputs": [],
   "source": [
    "parms = seal.EncryptionParameters(seal.SCHEME_TYPE.CKKS)"
   ]
  },
  {
   "cell_type": "markdown",
   "metadata": {},
   "source": [
    "We saw in `2_encoders.cpp' that multiplication in CKKS causes scales\n",
    "in ciphertexts to grow. The scale of any ciphertext must not get too close\n",
    "to the total size of coeff_modulus, or else the ciphertext simply runs out of\n",
    "room to store the scaled-up plaintext. The CKKS scheme provides a `rescale'\n",
    "functionality that can reduce the scale, and stabilize the scale expansion.\n",
    "Rescaling is a kind of modulus switch operation (recall `3_levels.cpp').\n",
    "As modulus switching, it removes the last of the primes from coeff_modulus,\n",
    "but as a side-effect it scales down the ciphertext by the removed prime.\n",
    "Usually we want to have perfect control over how the scales are changed,\n",
    "which is why for the CKKS scheme it is more common to use carefully selected\n",
    "primes for the coeff_modulus.\n",
    "More precisely, suppose that the scale in a CKKS ciphertext is S, and the\n",
    "last prime in the current coeff_modulus (for the ciphertext) is P. Rescaling\n",
    "to the next level changes the scale to S/P, and removes the prime P from the\n",
    "coeff_modulus, as usual in modulus switching. The number of primes limits\n",
    "how many rescalings can be done, and thus limits the multiplicative depth of\n",
    "the computation.\n",
    "It is possible to choose the initial scale freely. One good strategy can be\n",
    "to is to set the initial scale S and primes P_i in the coeff_modulus to be\n",
    "very close to each other. If ciphertexts have scale S before multiplication,\n",
    "they have scale S^2 after multiplication, and S^2/P_i after rescaling. If all\n",
    "P_i are close to S, then S^2/P_i is close to S again. This way we stabilize the\n",
    "scales to be close to S throughout the computation. Generally, for a circuit\n",
    "of depth D, we need to rescale D times, i.e., we need to be able to remove D\n",
    "primes from the coefficient modulus. Once we have only one prime left in the\n",
    "coeff_modulus, the remaining prime must be larger than S by a few bits to\n",
    "preserve the pre-decimal-point value of the plaintext.\n",
    "Therefore, a generally good strategy is to choose parameters for the CKKS\n",
    "scheme as follows:\n",
    "    (1) Choose a 60-bit prime as the first prime in coeff_modulus. This will\n",
    "        give the highest precision when decrypting;\n",
    "    (2) Choose another 60-bit prime as the last element of coeff_modulus, as\n",
    "        this will be used as the special prime and should be as large as the\n",
    "        largest of the other primes;\n",
    "    (3) Choose the intermediate primes to be close to each other.\n",
    "We use CoeffModulus::Create to generate primes of the appropriate size. Note\n",
    "that our coeff_modulus is 200 bits total, which is below the bound for our\n",
    "poly_modulus_degree: CoeffModulus::MaxBitCount(8192) returns 218."
   ]
  },
  {
   "cell_type": "code",
   "execution_count": 16,
   "metadata": {},
   "outputs": [
    {
     "name": "stdout",
     "output_type": "stream",
     "text": [
      "Coefficient modulus count: 218\n"
     ]
    }
   ],
   "source": [
    "poly_modulus_degree = 8192\n",
    "parms.set_poly_modulus_degree(poly_modulus_degree)\n",
    "parms.set_coeff_modulus(seal.CoeffModulus.Create(poly_modulus_degree, [60, 40, 40, 60]))\n",
    "print('Coefficient modulus count: ' + str(seal.CoeffModulus.MaxBitCount(8192, seal.SEC_LEVEL_TYPE.TC128)))"
   ]
  },
  {
   "cell_type": "markdown",
   "metadata": {},
   "source": [
    "We choose the initial scale to be 2^40. At the last level, this leaves us\n",
    "60-40=20 bits of precision before the decimal point, and enough (roughly\n",
    "10-20 bits) of precision after the decimal point. Since our intermediate\n",
    "primes are 40 bits (in fact, they are very close to 2^40), we can achieve\n",
    "scale stabilization as described above."
   ]
  },
  {
   "cell_type": "code",
   "execution_count": 19,
   "metadata": {},
   "outputs": [],
   "source": [
    "scale = pow(2.0, 40)\n",
    "\n",
    "context = seal.SEALContext(parms,True,seal.SEC_LEVEL_TYPE.TC128)"
   ]
  },
  {
   "cell_type": "markdown",
   "metadata": {},
   "source": [
    "Generate keys using 'SEAL::KeyGenerator'"
   ]
  },
  {
   "cell_type": "code",
   "execution_count": 25,
   "metadata": {},
   "outputs": [
    {
     "data": {
      "text/plain": [
       "<_sealapi_cpp.SerializableGaloisKeys at 0x7f80111a1cb0>"
      ]
     },
     "execution_count": 25,
     "metadata": {},
     "output_type": "execute_result"
    }
   ],
   "source": [
    "\n",
    "keygen = seal.KeyGenerator(context)\n",
    "secret_key = keygen.secret_key()\n",
    "\n",
    "public_key = seal.PublicKey()\n",
    "keygen.create_public_key(public_key)\n",
    "\n",
    "relin_keys = seal.RelinKeys()\n",
    "keygen.create_relin_keys(relin_keys)\n",
    "\n",
    "galois_keys = seal.GaloisKeys()\n",
    "keygen.create_galois_keys()\n"
   ]
  },
  {
   "cell_type": "markdown",
   "metadata": {},
   "source": [
    "Generate encryptors"
   ]
  },
  {
   "cell_type": "code",
   "execution_count": 84,
   "metadata": {},
   "outputs": [
    {
     "name": "stdout",
     "output_type": "stream",
     "text": [
      "Number of slots: 4096\n"
     ]
    }
   ],
   "source": [
    "encryptor = seal.Encryptor(context, public_key)\n",
    "evaluator = seal.Evaluator(context)\n",
    "decryptor = seal.Decryptor(context, secret_key)\n",
    "\n",
    "encoder = seal.CKKSEncoder(context)\n",
    "slot_count = seal.CKKSEncoder.slot_count(encoder)\n",
    "\n",
    "print('Number of slots: ' + str(slot_count))\n"
   ]
  },
  {
   "cell_type": "markdown",
   "metadata": {},
   "source": [
    "Create a vector with 4096 equidistant points in [0,1]"
   ]
  },
  {
   "cell_type": "code",
   "execution_count": 30,
   "metadata": {},
   "outputs": [],
   "source": [
    "input = np.linspace(0,1,slot_count)\n"
   ]
  },
  {
   "cell_type": "code",
   "execution_count": 31,
   "metadata": {},
   "outputs": [],
   "source": [
    "plain_coeff3 = seal.Plaintext()\n",
    "encoder.encode(3.14159265, scale, plain_coeff3)\n",
    "\n",
    "plain_coeff1 = seal.Plaintext()\n",
    "encoder.encode(0.3, scale, plain_coeff1)\n",
    "\n",
    "plain_coeff0 = seal.Plaintext()\n",
    "encoder.encode(1.0, scale, plain_coeff0)\n",
    "\n"
   ]
  },
  {
   "cell_type": "code",
   "execution_count": 56,
   "metadata": {},
   "outputs": [
    {
     "name": "stdout",
     "output_type": "stream",
     "text": [
      "%-----------------------------%%-----------------------------%\n",
      "Scale of x^2 before rescale: 80.0 bits.\n",
      "%-----------------------------%%-----------------------------%\n",
      "Rescale x^2.\n",
      "Scale of x^2 before rescale: 40.00000019347918 bits.\n",
      "%-----------------------------%%-----------------------------%\n",
      "Compute and rescale PI*x\n",
      "Scale of PI*x before rescale: 80.0 bits.\n",
      "Scale of PI*x after rescale: 40.00000019347918 bits.\n",
      "%-----------------------------%%-----------------------------%\n",
      "Compute, relinearize and rescale (PI*x)*x^2\n",
      "Scale of PI*x^3 before rescale: 80.00000038695836 bits.\n",
      "Scale of PI*x^3 after rescale: 40.00000135435979 bits.\n"
     ]
    }
   ],
   "source": [
    "x_plain = seal.Plaintext()\n",
    "encoder.encode(input, scale, x_plain)\n",
    "print('%-----------------------------%%-----------------------------%')\n",
    "x1_encrypted = seal.Ciphertext()\n",
    "encryptor.encrypt(x_plain, x1_encrypted)\n",
    "\n",
    "x3_encrypted = seal.Ciphertext()\n",
    "evaluator.square(x1_encrypted, x3_encrypted)\n",
    "evaluator.relinearize_inplace(x3_encrypted, relin_keys)\n",
    "print('%-----------------------------%%-----------------------------%')\n",
    "print('\\t+Scale of x^2 before rescale: ' + str(math.log2(x3_encrypted.scale)) + ' bits.')\n",
    "print('\\t+Rescale x^2.')\n",
    "evaluator.rescale_to_next_inplace(x3_encrypted)\n",
    "print('\\t+Scale of x^2 before rescale: ' + str(math.log2(x3_encrypted.scale)) + ' bits.')\n",
    "\n",
    "print('%-----------------------------%%-----------------------------%')\n",
    "print('\\t+Compute and rescale PI*x')\n",
    "x1_encrypted_coeff3 = seal.Ciphertext()\n",
    "evaluator.multiply_plain(x1_encrypted, plain_coeff3, x1_encrypted_coeff3)\n",
    "print('\\t+Scale of PI*x before rescale: ' + str(math.log2(x1_encrypted_coeff3.scale)) + ' bits.')\n",
    "evaluator.rescale_to_next_inplace(x1_encrypted_coeff3)\n",
    "print('\\t+Scale of PI*x after rescale: ' + str(math.log2(x1_encrypted_coeff3.scale)) + ' bits.')\n",
    "\n",
    "print('%-----------------------------%%-----------------------------%')\n",
    "print('\\t+Compute, relinearize and rescale (PI*x)*x^2')\n",
    "evaluator.multiply_inplace(x3_encrypted, x1_encrypted_coeff3)\n",
    "evaluator.relinearize_inplace(x3_encrypted, relin_keys)\n",
    "print('\\t+Scale of PI*x^3 before rescale: ' + str(math.log2(x3_encrypted.scale)) + ' bits.')\n",
    "evaluator.rescale_to_next_inplace(x3_encrypted)\n",
    "print('\\t+Scale of PI*x^3 after rescale: ' + str(math.log2(x3_encrypted.scale)) + ' bits.')"
   ]
  },
  {
   "cell_type": "markdown",
   "metadata": {},
   "source": [
    "Time to compute the degree 1 term. "
   ]
  },
  {
   "cell_type": "code",
   "execution_count": 57,
   "metadata": {},
   "outputs": [
    {
     "name": "stdout",
     "output_type": "stream",
     "text": [
      "%-----------------------------%%-----------------------------%\n",
      "\t+Compute and rescale 0.4*x.\n",
      "\t+Scale of 0.4*x before rescale: 80.0 bits.\n",
      "\t+Scale of 0.4*v after rescale: 40.00000019347918 bits.\n"
     ]
    }
   ],
   "source": [
    "print('%-----------------------------%%-----------------------------%')\n",
    "print('\\t+Compute and rescale 0.4*x.')\n",
    "evaluator.multiply_plain_inplace(x1_encrypted, plain_coeff1)\n",
    "print('\\t+Scale of 0.4*x before rescale: ' + str(math.log2(x1_encrypted.scale)) + ' bits.')\n",
    "evaluator.rescale_to_next_inplace(x1_encrypted)\n",
    "print('\\t+Scale of 0.4*v after rescale: ' + str(math.log2(x1_encrypted.scale)) + ' bits.')\n"
   ]
  },
  {
   "cell_type": "code",
   "execution_count": 69,
   "metadata": {},
   "outputs": [
    {
     "name": "stdout",
     "output_type": "stream",
     "text": [
      "%-----------------------------%%-----------------------------%\n",
      "Parameters used by all three terms are different.\n",
      "\t+ Modulus chain index for x3_encrypted: 0\n",
      "\t+ Modulus chain index for x1_encrypted: 1\n",
      "\t+ Modulus chain index for plain_coeff0: 2\n"
     ]
    }
   ],
   "source": [
    "print('%-----------------------------%%-----------------------------%')\n",
    "print(\"Parameters used by all three terms are different.\")\n",
    "print(\"\\t+ Modulus chain index for x3_encrypted: \" +  str(context.get_context_data(x3_encrypted.parms_id()).chain_index()))\n",
    "print(\"\\t+ Modulus chain index for x1_encrypted: \" + str(context.get_context_data(x1_encrypted.parms_id()).chain_index()))\n",
    "print(\"\\t+ Modulus chain index for plain_coeff0: \" + str(context.get_context_data(plain_coeff0.parms_id()).chain_index()))"
   ]
  },
  {
   "cell_type": "markdown",
   "metadata": {},
   "source": [
    "Note that this means that\n",
    "- product x^2 has scale 2^80 and is at level 2\n",
    "- product PI*x has scale 2^80 and is at level 2\n",
    "- both were rescaled down to scale 2^80/P_2 and level 1\n",
    "- product 0.4*x has scale 2^80\n",
    "- it was rescaled down to scale 2^80/P_2 and level 1\n",
    "- the constant term 1 has scale 2^40 and is at level 2"
   ]
  },
  {
   "cell_type": "code",
   "execution_count": 71,
   "metadata": {},
   "outputs": [
    {
     "name": "stdout",
     "output_type": "stream",
     "text": [
      "The exact scales of all three terms are different: \n",
      "\t+ Exact scale in PI*x^3 : 1099512659965.7515\n",
      "\t+ Exact scale in 0.4*x \t: 1099511775231.0198\n",
      "\t+ Exact scale in 1 \t: 1099511627776.0\n"
     ]
    }
   ],
   "source": [
    "print('The exact scales of all three terms are different: ')\n",
    "print('\\t+ Exact scale in PI*x^3 : ' + str(x3_encrypted.scale))\n",
    "print('\\t+ Exact scale in 0.4*x \\t: ' + str(x1_encrypted.scale))\n",
    "print('\\t+ Exact scale in 1 \\t: ' + str(plain_coeff0.scale))"
   ]
  },
  {
   "cell_type": "code",
   "execution_count": 78,
   "metadata": {},
   "outputs": [
    {
     "name": "stdout",
     "output_type": "stream",
     "text": [
      "%-----------------------------%%-----------------------------%\n",
      "Normalize scales to 2^40\n"
     ]
    }
   ],
   "source": [
    "print('%-----------------------------%%-----------------------------%')\n",
    "print('Normalize scales to 2^40')\n",
    "x3_encrypted.scale = pow(2.0,40)\n",
    "x1_encrypted.scale = pow(2.0,40)"
   ]
  },
  {
   "cell_type": "code",
   "execution_count": 79,
   "metadata": {},
   "outputs": [
    {
     "name": "stdout",
     "output_type": "stream",
     "text": [
      "%-----------------------------%%-----------------------------%\n",
      "Normalize encryption paramters to the lowest level.\n"
     ]
    }
   ],
   "source": [
    "print('%-----------------------------%%-----------------------------%')\n",
    "print(\"Normalize encryption paramters to the lowest level.\")\n",
    "last_parms_id = x3_encrypted.parms_id()\n",
    "evaluator.mod_switch_to_inplace(x1_encrypted, last_parms_id)\n",
    "evaluator.mod_switch_to_inplace(plain_coeff0, last_parms_id)"
   ]
  },
  {
   "cell_type": "markdown",
   "metadata": {},
   "source": [
    "Now all three ciphertexts should be compatible to be added."
   ]
  },
  {
   "cell_type": "code",
   "execution_count": 80,
   "metadata": {},
   "outputs": [
    {
     "name": "stdout",
     "output_type": "stream",
     "text": [
      "%-----------------------------%%-----------------------------%\n",
      "Compute PI*x^3+0.4*x+1.\n"
     ]
    }
   ],
   "source": [
    "print('%-----------------------------%%-----------------------------%')\n",
    "print('Compute PI*x^3+0.4*x+1.')\n",
    "encrypted_result = seal.Ciphertext()\n",
    "evaluator.add(x3_encrypted, x1_encrypted, encrypted_result)\n",
    "evaluator.add_plain_inplace(encrypted_result, plain_coeff0)"
   ]
  },
  {
   "cell_type": "markdown",
   "metadata": {},
   "source": [
    "Print the true result."
   ]
  },
  {
   "cell_type": "code",
   "execution_count": 92,
   "metadata": {},
   "outputs": [
    {
     "name": "stdout",
     "output_type": "stream",
     "text": [
      "%-----------------------------%%-----------------------------%\n",
      "Decrypt and decode result.\n",
      "\t+Expected result\n",
      "[1.         1.14342979 1.5613577  2.52828187 4.31870044]\n",
      "[1.000000000343631, 1.1190098167856988, 1.5125180285499003, 2.4550230407647304, 4.221023223123293]\n"
     ]
    }
   ],
   "source": [
    "plain_result = seal.Plaintext()\n",
    "print('%-----------------------------%%-----------------------------%')\n",
    "print('Decrypt and decode result.')\n",
    "print('\\t+Expected result')\n",
    "true_result = (3.14159254*input**2 + 0.4)*input+1\n",
    "print(true_result[0:-1:1000])\n",
    "\n",
    "#Decrypt, decode and print result\n",
    "decryptor.decrypt(encrypted_result, plain_result)\n",
    "result = encoder.decode_double(plain_result)\n",
    "print(result[0:-1:1000])"
   ]
  },
  {
   "cell_type": "code",
   "execution_count": null,
   "metadata": {},
   "outputs": [],
   "source": []
  }
 ],
 "metadata": {
  "kernelspec": {
   "display_name": "Python 3.9.7 ('secure-ml-venv')",
   "language": "python",
   "name": "python3"
  },
  "language_info": {
   "codemirror_mode": {
    "name": "ipython",
    "version": 3
   },
   "file_extension": ".py",
   "mimetype": "text/x-python",
   "name": "python",
   "nbconvert_exporter": "python",
   "pygments_lexer": "ipython3",
   "version": "3.9.7"
  },
  "orig_nbformat": 4,
  "vscode": {
   "interpreter": {
    "hash": "51a1eaa9f94a8055b5f69fda38d5e2c63385f357b8ace33bd7f635ff4a855d53"
   }
  }
 },
 "nbformat": 4,
 "nbformat_minor": 2
}
