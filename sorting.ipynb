{
 "cells": [
  {
   "cell_type": "code",
   "execution_count": null,
   "metadata": {},
   "outputs": [],
   "source": [
    "import tenseal.sealapi as seal\n",
    "from polynomial import enc_poly, divByPo2\n",
    "import util\n",
    "import numpy as np\n",
    "import matplotlib.pyplot as plt\n",
    "%matplotlib widget"
   ]
  },
  {
   "cell_type": "code",
   "execution_count": null,
   "metadata": {},
   "outputs": [],
   "source": [
    "parms = seal.EncryptionParameters(seal.SCHEME_TYPE.CKKS)\n",
    "# How large should plaintexts be? This determines number of available levels for a certain bit size, number of data slots and security. \n",
    "poly_modulus_degree = 2**15\n",
    "# Bit size for primes in modulus chain. Larger -> more available options, slower performance. \n",
    "bit_size = 50\n",
    "# How many data levels do we need?\n",
    "levels = 10\n",
    "# Create modulus chain\n",
    "mod_chain_bit_size = [bit_size for k in range(levels)]\n",
    "# First and last primes are \"special\" in SEAL, and should always be 60 bit primes.  \n",
    "mod_chain_bit_size.insert(0,60)\n",
    "mod_chain_bit_size.append(60)\n",
    "\n",
    "# Set parameters (this involves involves finding candidate primes for the modulus chain)\n",
    "parms.set_poly_modulus_degree(poly_modulus_degree)\n",
    "parms.set_coeff_modulus(seal.CoeffModulus.Create(poly_modulus_degree, mod_chain_bit_size))\n",
    "scale = pow(2.0, bit_size)\n",
    "\n",
    "# What are the specific primes in the modulus chain? These help calculate exact scales \n",
    "# of rescaled ciphertexts later on in this notebook. \n",
    "primes = [modulus.value() for modulus in parms.coeff_modulus()]\n",
    "\n",
    "# The creation of a SEAL context does not include a check to see if parameter settings\n",
    "# are valid. This is done later during key creation. \n",
    "context = seal.SEALContext(parms,True,seal.SEC_LEVEL_TYPE.TC128)\n",
    "\n",
    "util.print_parameters(context)\n",
    "\n",
    "print(\"|\\t Max Bit Count: \" + str(seal.CoeffModulus.MaxBitCount(poly_modulus_degree, seal.SEC_LEVEL_TYPE.TC128)))"
   ]
  },
  {
   "cell_type": "code",
   "execution_count": null,
   "metadata": {},
   "outputs": [],
   "source": [
    "\n",
    "keygen = seal.KeyGenerator(context)\n",
    "secret_key = keygen.secret_key()\n",
    "\n",
    "public_key = seal.PublicKey()\n",
    "keygen.create_public_key(public_key)\n",
    "\n",
    "relin_keys = seal.RelinKeys()\n",
    "keygen.create_relin_keys(relin_keys)\n",
    "\n",
    "galois_keys = seal.GaloisKeys()\n",
    "keygen.create_galois_keys()\n",
    "\n",
    "encryptor = seal.Encryptor(context, public_key)\n",
    "evaluator = seal.Evaluator(context)\n",
    "decryptor = seal.Decryptor(context, secret_key)\n",
    "\n",
    "encoder = seal.CKKSEncoder(context)\n",
    "slot_count = seal.CKKSEncoder.slot_count(encoder)\n",
    "\n",
    "print('Number of slots: ' + str(slot_count))"
   ]
  }
 ],
 "metadata": {
  "kernelspec": {
   "display_name": "Python 3.9.7 ('secure-ml-venv')",
   "language": "python",
   "name": "python3"
  },
  "language_info": {
   "name": "python",
   "version": "3.9.7"
  },
  "orig_nbformat": 4,
  "vscode": {
   "interpreter": {
    "hash": "51a1eaa9f94a8055b5f69fda38d5e2c63385f357b8ace33bd7f635ff4a855d53"
   }
  }
 },
 "nbformat": 4,
 "nbformat_minor": 2
}
