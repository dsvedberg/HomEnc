{
 "cells": [
  {
   "cell_type": "markdown",
   "metadata": {},
   "source": [
    "# CKKSEncoder (For CKKS scheme only)"
   ]
  },
  {
   "cell_type": "code",
   "execution_count": 1,
   "metadata": {},
   "outputs": [],
   "source": [
    "import tenseal.sealapi as seal\n",
    "import numpy as np\n",
    "import util"
   ]
  },
  {
   "cell_type": "markdown",
   "metadata": {},
   "source": [
    "\n",
    "In this example we demonstrate the Cheon-Kim-Kim-Song (CKKS) scheme for computing on encrypted real or complex numbers. We start by creating encryption parameters for the CKKS scheme. There are two important differences compared to the BFV scheme:\n",
    "\n",
    "1. CKKS does not use the `plain_modulus` encryption parameter;\n",
    "2. Selecting the `coeff_modulus` in a specific way can be very important when using the CKKS scheme. We will explain this further in the file `ckks_basics.cpp`. In this example we use `CoeffModulus::Create` to generate 5 40-bit prime numbers."
   ]
  },
  {
   "cell_type": "code",
   "execution_count": 4,
   "metadata": {},
   "outputs": [],
   "source": [
    "parms = seal.EncryptionParameters(seal.SCHEME_TYPE.CKKS)\n",
    "poly_modulus_degree = 8192\n",
    "parms.set_poly_modulus_degree(poly_modulus_degree)\n",
    "parms.set_coeff_modulus(seal.CoeffModulus.Create(poly_modulus_degree, [40, 40, 40, 40, 40 ]))"
   ]
  },
  {
   "cell_type": "markdown",
   "metadata": {},
   "source": [
    "We create the SEALContext as usual and print the parameters."
   ]
  },
  {
   "cell_type": "code",
   "execution_count": 5,
   "metadata": {},
   "outputs": [
    {
     "name": "stdout",
     "output_type": "stream",
     "text": [
      "/\n",
      "|Encryption parameters: \n",
      "|\tscheme: CKKS\n",
      "|\tpoly_modulus_degree: 8192\n",
      "|\tcoeff_modulus_size: 200 (40 40 40 40 40) bits\n"
     ]
    }
   ],
   "source": [
    "context = seal.SEALContext(parms, True, seal.SEC_LEVEL_TYPE.TC128)\n",
    "util.print_parameters(context)"
   ]
  },
  {
   "cell_type": "markdown",
   "metadata": {},
   "source": [
    "Keys are created the same way as for the BFV scheme."
   ]
  },
  {
   "cell_type": "code",
   "execution_count": 6,
   "metadata": {},
   "outputs": [],
   "source": [
    "keygen = seal.KeyGenerator(context)\n",
    "secret_key = keygen.secret_key()\n",
    "public_key = seal.PublicKey()\n",
    "keygen.create_public_key(public_key)\n",
    "relin_keys = seal.RelinKeys()\n",
    "keygen.create_relin_keys(relin_keys)"
   ]
  },
  {
   "cell_type": "markdown",
   "metadata": {},
   "source": [
    "We also set up an Encryptor, Evaluator, and Decryptor as usual."
   ]
  },
  {
   "cell_type": "code",
   "execution_count": 8,
   "metadata": {},
   "outputs": [],
   "source": [
    "encryptor = seal.Encryptor(context, public_key)\n",
    "evaluator = seal.Evaluator(context)\n",
    "decryptor = seal.Decryptor(context, secret_key)"
   ]
  },
  {
   "cell_type": "markdown",
   "metadata": {},
   "source": [
    "To create CKKS plaintexts we need a special encoder: there is no other way to create them. The BatchEncoder cannot be used with the CKKS scheme. The `CKKSEncoder` encodes vectors of real or complex numbers into `Plaintext` objects, which can subsequently be encrypted. At a high level this looks a lot like what `BatchEncoder` does for the BFV scheme, but the theory behind it is completely different."
   ]
  },
  {
   "cell_type": "code",
   "execution_count": 10,
   "metadata": {},
   "outputs": [],
   "source": [
    "encoder = seal.CKKSEncoder(context)"
   ]
  },
  {
   "cell_type": "markdown",
   "metadata": {},
   "source": [
    "In CKKS the number of slots is `poly_modulus_degree` / 2 and each slot encodes one real or complex number. This should be contrasted with `BatchEncoder` in the BFV scheme, where the number of slots is equal to `poly_modulus_degree` and they are arranged into a matrix with two rows."
   ]
  },
  {
   "cell_type": "code",
   "execution_count": 11,
   "metadata": {},
   "outputs": [
    {
     "name": "stdout",
     "output_type": "stream",
     "text": [
      "Number of slots: 4096\n"
     ]
    }
   ],
   "source": [
    "slot_count = encoder.slot_count()\n",
    "print('Number of slots: ' + str(slot_count))"
   ]
  },
  {
   "cell_type": "markdown",
   "metadata": {},
   "source": [
    "We create a small vector to encode; the `CKKSEncoder` will implicitly pad it with zeros to full size (`poly_modulus_degree` / 2) when encoding."
   ]
  },
  {
   "cell_type": "code",
   "execution_count": 12,
   "metadata": {},
   "outputs": [
    {
     "name": "stdout",
     "output_type": "stream",
     "text": [
      "Input vector:\n",
      "[0.0, 1.1, 2.2, 3.3]\n"
     ]
    }
   ],
   "source": [
    "input = [0.0, 1.1, 2.2, 3.3 ]\n",
    "print('Input vector:')\n",
    "print(input)"
   ]
  },
  {
   "cell_type": "markdown",
   "metadata": {},
   "source": [
    "Now we encode it with `CKKSEncoder`. The floating-point coefficients of `input` will be scaled up by the parameter `scale`. This is necessary since even in the CKKS scheme the plaintext elements are fundamentally polynomials with integer coefficients. It is instructive to think of the scale as determining the bit-precision of the encoding; naturally it will affect the precision of the result.\n",
    "\n",
    "In CKKS the message is stored modulo `coeff_modulus` (in BFV it is stored modulo `plain_modulus`), so the scaled message must not get too close to the total size of `coeff_modulus`. In this case our `coeff_modulus` is quite large (200 bits) so we have little to worry about in this regard. For this simple example a 30-bit scale is more than enough."
   ]
  },
  {
   "cell_type": "code",
   "execution_count": 14,
   "metadata": {},
   "outputs": [],
   "source": [
    "plain = seal.Plaintext()\n",
    "scale = pow(2.0, 30)\n",
    "encoder.encode(input, scale, plain)"
   ]
  },
  {
   "cell_type": "markdown",
   "metadata": {},
   "source": [
    "We can instantly decode to check the correctness of encoding."
   ]
  },
  {
   "cell_type": "code",
   "execution_count": 16,
   "metadata": {},
   "outputs": [
    {
     "name": "stdout",
     "output_type": "stream",
     "text": [
      "Decoded input vector: \n",
      "[-4.48651637212957e-08, 1.0999999741646955, 2.1999999834042967, 3.299999987597782, -2.3791869634729804e-08, -7.380506703368948e-09, 5.616646430304957e-08, -3.0054153105748065e-08]\n"
     ]
    }
   ],
   "source": [
    "output = encoder.decode_double(plain)\n",
    "print('Decoded input vector: ')\n",
    "print(output[0:8])"
   ]
  },
  {
   "cell_type": "markdown",
   "metadata": {},
   "source": [
    "The vector is encrypted the same way as in BFV."
   ]
  },
  {
   "cell_type": "code",
   "execution_count": 17,
   "metadata": {},
   "outputs": [],
   "source": [
    "\n",
    "encrypted = seal.Ciphertext()\n",
    "encryptor.encrypt(plain, encrypted)"
   ]
  },
  {
   "cell_type": "markdown",
   "metadata": {},
   "source": [
    "Basic operations on the ciphertexts are still easy to do. Here we square the\n",
    "ciphertext, decrypt, decode, and print the result. We note also that decoding\n",
    "returns a vector of full size (`poly_modulus_degree` / 2); this is because of\n",
    "the implicit zero-padding mentioned above."
   ]
  },
  {
   "cell_type": "code",
   "execution_count": 18,
   "metadata": {},
   "outputs": [],
   "source": [
    "evaluator.square_inplace(encrypted)\n",
    "evaluator.relinearize_inplace(encrypted, relin_keys)"
   ]
  },
  {
   "cell_type": "markdown",
   "metadata": {},
   "source": [
    "We notice that the scale in the result has increased. In fact, it is now the square of the original scale: 2^60."
   ]
  },
  {
   "cell_type": "code",
   "execution_count": 21,
   "metadata": {},
   "outputs": [
    {
     "name": "stdout",
     "output_type": "stream",
     "text": [
      "Scale in squared input: 1.152921504606847e+18 (60.0 bits)\n",
      "[-5.068293803494718e-13, 1.210001494082472, 4.840001080295021, 10.890001288345392, 1.781565968336205e-11, 5.281918976196055e-13, 7.045305228866165e-13, 4.842436535973635e-14]\n"
     ]
    }
   ],
   "source": [
    "print('Scale in squared input: ' + str(encrypted.scale) + ' (' + str(np.log2(encrypted.scale)) + ' bits)')\n",
    "decryptor.decrypt(encrypted, plain)\n",
    "output = encoder.decode_double(plain)\n",
    "print(output[0:8])"
   ]
  },
  {
   "cell_type": "markdown",
   "metadata": {},
   "source": [
    "The CKKS scheme allows the scale to be reduced between encrypted computations. This is a fundamental and critical feature that makes CKKS very powerful and flexible. We will discuss it in great detail in `3_levels.cpp` and later in `4_ckks_basics.cpp`."
   ]
  }
 ],
 "metadata": {
  "kernelspec": {
   "display_name": "openmined-venv",
   "language": "python",
   "name": "openmined-venv"
  },
  "language_info": {
   "codemirror_mode": {
    "name": "ipython",
    "version": 3
   },
   "file_extension": ".py",
   "mimetype": "text/x-python",
   "name": "python",
   "nbconvert_exporter": "python",
   "pygments_lexer": "ipython3",
   "version": "3.8.0"
  },
  "orig_nbformat": 4
 },
 "nbformat": 4,
 "nbformat_minor": 2
}
