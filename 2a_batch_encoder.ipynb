{
 "cells": [
  {
   "cell_type": "markdown",
   "metadata": {},
   "source": [
    "# BatchEncoder (For BFV or BGV scheme)"
   ]
  },
  {
   "cell_type": "code",
   "execution_count": 2,
   "metadata": {},
   "outputs": [],
   "source": [
    "import tenseal.sealapi as seal\n",
    "import numpy as np\n",
    "import util"
   ]
  },
  {
   "cell_type": "markdown",
   "metadata": {},
   "source": [
    "In `1_bfv_basics.cpp` we showed how to perform a very simple computation using the BFV scheme. The computation was performed modulo the `plain_modulus` parameter, and utilized only one coefficient from a BFV plaintext polynomial. This approach has\n",
    "two notable problems:\n",
    "\n",
    "1. Practical applications typically use integer or real number arithmetic, not modular arithmetic;\n",
    "2. We used only one coefficient of the plaintext polynomial. This is really wasteful, as the plaintext polynomial is large and will in any case be encrypted in its entirety.\n",
    "\n",
    "For (1), one may ask why not just increase the `plain_modulus` parameter until no overflow occurs, and the computations behave as in integer arithmetic. The problem is that increasing `plain_modulus` increases noise budget consumption, and decreases\n",
    "the initial noise budget too.\n",
    "\n",
    "In these examples we will discuss other ways of laying out data into plaintext elements (encoding) that allow more computations without data type overflow, and can allow the full plaintext polynomial to be utilized."
   ]
  },
  {
   "cell_type": "markdown",
   "metadata": {},
   "source": [
    "Let N denote the `poly_modulus_degree` and `T` denote the `plain_modulus`. Batching allows the BFV plaintext polynomials to be viewed as 2-by-(N/2) matrices, with each element an integer modulo `T`. In the matrix view, encrypted operations act element-wise on encrypted matrices, allowing the user to obtain speeds-ups of several orders of magnitude in fully vectorizable computations. Thus, in all but the simplest computations, batching should be the preferred method to use with BFV, and when used properly will result in implementations outperforming anything done without batching.\n",
    "\n",
    "In a later example, we will demonstrate how to use the BGV scheme. Batching works similarly for the BGV scheme to this example for the BFV scheme. For example, simply changing `scheme_type::bfv` into `scheme_type::bgv` can make this example work for the BGV scheme."
   ]
  },
  {
   "cell_type": "code",
   "execution_count": 3,
   "metadata": {},
   "outputs": [],
   "source": [
    "parms = seal.EncryptionParameters(seal.SCHEME_TYPE.BFV)\n",
    "poly_modulus_degree = 8192\n",
    "parms.set_poly_modulus_degree(poly_modulus_degree)\n",
    "parms.set_coeff_modulus(seal.CoeffModulus.BFVDefault(poly_modulus_degree, seal.SEC_LEVEL_TYPE.TC128))"
   ]
  },
  {
   "cell_type": "markdown",
   "metadata": {},
   "source": [
    "To enable batching, we need to set the `plain_modulus` to be a prime number congruent to `1 modulo 2*poly_modulus_degree`. Microsoft SEAL provides a helper method for finding such a prime. In this example we create a 20-bit prime that supports batching."
   ]
  },
  {
   "cell_type": "code",
   "execution_count": 4,
   "metadata": {},
   "outputs": [
    {
     "name": "stdout",
     "output_type": "stream",
     "text": [
      "/\n",
      "|Encryption parameters: \n",
      "|\tscheme: BFV\n",
      "|\tpoly_modulus_degree: 8192\n",
      "|\tcoeff_modulus_size: 218 (43 43 44 44 44) bits\n",
      "|\tplain_modulus: 1032193\n"
     ]
    }
   ],
   "source": [
    "parms.set_plain_modulus(seal.PlainModulus.Batching(poly_modulus_degree, 20))\n",
    "\n",
    "context = seal.SEALContext(parms, True, seal.SEC_LEVEL_TYPE.TC128)\n",
    "util.print_parameters(context)"
   ]
  },
  {
   "cell_type": "markdown",
   "metadata": {},
   "source": [
    "We can verify that batching is indeed enabled by looking at the encryption parameter qualifiers created by `SEALContext`."
   ]
  },
  {
   "cell_type": "code",
   "execution_count": 5,
   "metadata": {},
   "outputs": [
    {
     "name": "stdout",
     "output_type": "stream",
     "text": [
      "Batching enabled: True\n"
     ]
    }
   ],
   "source": [
    "qualifiers = context.first_context_data().qualifiers()\n",
    "print('Batching enabled: ' + str(qualifiers.using_batching))\n",
    "    \n",
    "keygen = seal.KeyGenerator(context)\n",
    "secret_key = keygen.secret_key()\n",
    "public_key = seal.PublicKey()\n",
    "keygen.create_public_key(public_key)\n",
    "relin_keys = seal.RelinKeys()\n",
    "keygen.create_relin_keys(relin_keys)\n",
    "encryptor = seal.Encryptor(context, public_key)\n",
    "evaluator = seal.Evaluator(context)\n",
    "decryptor = seal.Decryptor(context, secret_key)"
   ]
  },
  {
   "cell_type": "markdown",
   "metadata": {},
   "source": [
    "Batching is done through an instance of the `BatchEncoder` class.\n",
    "\n",
    "The total number of batching `slots` equals the `poly_modulus_degree`, N, and these slots are organized into 2-by-(N/2) matrices that can be encrypted and computed on. Each slot contains an `integer modulo plain_modulus`."
   ]
  },
  {
   "cell_type": "code",
   "execution_count": 6,
   "metadata": {},
   "outputs": [
    {
     "name": "stdout",
     "output_type": "stream",
     "text": [
      "Plaintext matrix row size: 4096\n"
     ]
    }
   ],
   "source": [
    "batch_encoder = seal.BatchEncoder(context)\n",
    "slot_count = batch_encoder.slot_count()\n",
    "row_size = int(slot_count/2)\n",
    "print('Plaintext matrix row size: ' + str(row_size))"
   ]
  },
  {
   "cell_type": "markdown",
   "metadata": {},
   "source": [
    "The matrix plaintext is simply given to BatchEncoder as a flattened vector of numbers. The first `row_size' many numbers form the first row, and the rest form the second row. Here we create the following matrix:\n",
    "\n",
    "    [ 0,  1,  2,  3,  0,  0, ...,  0 ]\n",
    "    [ 4,  5,  6,  7,  0,  0, ...,  0 ]"
   ]
  },
  {
   "cell_type": "code",
   "execution_count": 7,
   "metadata": {},
   "outputs": [
    {
     "name": "stdout",
     "output_type": "stream",
     "text": [
      "Input plaintext matrix: \n",
      "[0 1 2 ... 0 0 0]\n"
     ]
    }
   ],
   "source": [
    "pod_matrix = np.zeros((slot_count,), dtype='uint64')\n",
    "pod_matrix[0:4] = [0, 1, 2, 3]\n",
    "pod_matrix[row_size:row_size+4] = [4, 5, 6, 7]\n",
    "print('Input plaintext matrix: ')\n",
    "print(pod_matrix)"
   ]
  },
  {
   "cell_type": "markdown",
   "metadata": {},
   "source": [
    "First we use `BatchEncoder` to encode the matrix into a plaintext polynomial."
   ]
  },
  {
   "cell_type": "code",
   "execution_count": 8,
   "metadata": {},
   "outputs": [],
   "source": [
    "plain_matrix = seal.Plaintext()\n",
    "batch_encoder.encode(pod_matrix.tolist(), plain_matrix)"
   ]
  },
  {
   "cell_type": "markdown",
   "metadata": {},
   "source": [
    "We can instantly decode to verify correctness of the encoding. Note that no\n",
    "encryption or decryption has yet taken place."
   ]
  },
  {
   "cell_type": "code",
   "execution_count": 9,
   "metadata": {},
   "outputs": [
    {
     "name": "stdout",
     "output_type": "stream",
     "text": [
      "[0, 1, 2, 3, 0, 0, 0, 0]\n",
      "[4, 5, 6, 7, 0, 0, 0, 0]\n"
     ]
    }
   ],
   "source": [
    "pod_result = batch_encoder.decode_uint64(plain_matrix)\n",
    "print(pod_result[0:8])                     # Slicing to avoid printing the whole 4096 slots\n",
    "print(pod_result[row_size:row_size+8])"
   ]
  },
  {
   "cell_type": "markdown",
   "metadata": {},
   "source": [
    "Next we encrypt the encoded plaintext."
   ]
  },
  {
   "cell_type": "code",
   "execution_count": 10,
   "metadata": {},
   "outputs": [
    {
     "name": "stdout",
     "output_type": "stream",
     "text": [
      "Noise budged in encrypted matrix: 146\n"
     ]
    }
   ],
   "source": [
    "encrypted_matrix = seal.Ciphertext()\n",
    "encryptor.encrypt(plain_matrix, encrypted_matrix)\n",
    "print('Noise budged in encrypted matrix: ' + str(decryptor.invariant_noise_budget(encrypted_matrix)))\n"
   ]
  },
  {
   "cell_type": "markdown",
   "metadata": {},
   "source": [
    "Operating on the ciphertext results in homomorphic operations being performed\n",
    "simultaneously in all 8192 slots (matrix elements). To illustrate this, we\n",
    "form another plaintext matrix\n",
    "\n",
    "    [ 1,  2,  1,  2,  1,  2, ..., 2 ]\n",
    "    [ 1,  2,  1,  2,  1,  2, ..., 2 ]\n",
    "    \n",
    "and encode it into a plaintext."
   ]
  },
  {
   "cell_type": "code",
   "execution_count": 11,
   "metadata": {},
   "outputs": [
    {
     "name": "stdout",
     "output_type": "stream",
     "text": [
      "Second input plaintext matrix: \n",
      "[1 2 1 ... 2 1 2]\n"
     ]
    }
   ],
   "source": [
    "pod_matrix2 = np.ones((slot_count,), dtype='uint64')\n",
    "pod_matrix2[1:slot_count:2] = 2\n",
    "plain_matrix2 = seal.Plaintext()\n",
    "batch_encoder.encode(pod_matrix2.tolist(), plain_matrix2)\n",
    "print('Second input plaintext matrix: ')\n",
    "print(pod_matrix2)"
   ]
  },
  {
   "cell_type": "markdown",
   "metadata": {},
   "source": [
    "We now add the second (plaintext) matrix to the encrypted matrix, and square\n",
    "the sum."
   ]
  },
  {
   "cell_type": "code",
   "execution_count": 12,
   "metadata": {},
   "outputs": [],
   "source": [
    "evaluator.add_plain_inplace(encrypted_matrix, plain_matrix2)\n",
    "evaluator.square_inplace(encrypted_matrix)\n",
    "evaluator.relinearize_inplace(encrypted_matrix, relin_keys)"
   ]
  },
  {
   "cell_type": "markdown",
   "metadata": {},
   "source": [
    "How much noise budget do we have left?"
   ]
  },
  {
   "cell_type": "code",
   "execution_count": 13,
   "metadata": {},
   "outputs": [
    {
     "name": "stdout",
     "output_type": "stream",
     "text": [
      "Noise budget in result: 114\n"
     ]
    }
   ],
   "source": [
    "print('Noise budget in result: ' + str(decryptor.invariant_noise_budget(encrypted_matrix)))"
   ]
  },
  {
   "cell_type": "markdown",
   "metadata": {},
   "source": [
    "We decrypt and decompose the plaintext to recover the result as a matrix."
   ]
  },
  {
   "cell_type": "code",
   "execution_count": 16,
   "metadata": {},
   "outputs": [
    {
     "name": "stdout",
     "output_type": "stream",
     "text": [
      "Result plaintext matrix:\n",
      "[1, 9, 9, 25, 1, 4, 1, 4]\n",
      "[25, 49, 49, 81, 1, 4, 1, 4]\n"
     ]
    }
   ],
   "source": [
    "plain_result = seal.Plaintext()\n",
    "decryptor.decrypt(encrypted_matrix, plain_result)\n",
    "pod_result = batch_encoder.decode_uint64(plain_result)\n",
    "print('Result plaintext matrix:')\n",
    "print(pod_result[0:8])\n",
    "print(pod_result[row_size:row_size+8])"
   ]
  },
  {
   "cell_type": "markdown",
   "metadata": {},
   "source": [
    "Batching allows us to efficiently use the full plaintext polynomial when the desired encrypted computation is highly parallelizable. However, it has not solved the other problem mentioned in the beginning of this file: each slot holds only an integer modulo `plain_modulus`, and unless `plain_modulus` is very large, we can quickly encounter data type overflow and get unexpected results when integer computations are desired. Note that overflow cannot be detected in encrypted form. The CKKS scheme (and the `CKKSEncoder`) addresses the data type overflow issue, but at the cost of yielding only approximate results."
   ]
  }
 ],
 "metadata": {
  "kernelspec": {
   "display_name": "Python 3.9.7 ('secure-ml-venv')",
   "language": "python",
   "name": "python3"
  },
  "language_info": {
   "codemirror_mode": {
    "name": "ipython",
    "version": 3
   },
   "file_extension": ".py",
   "mimetype": "text/x-python",
   "name": "python",
   "nbconvert_exporter": "python",
   "pygments_lexer": "ipython3",
   "version": "3.9.7"
  },
  "orig_nbformat": 4,
  "vscode": {
   "interpreter": {
    "hash": "51a1eaa9f94a8055b5f69fda38d5e2c63385f357b8ace33bd7f635ff4a855d53"
   }
  }
 },
 "nbformat": 4,
 "nbformat_minor": 2
}
