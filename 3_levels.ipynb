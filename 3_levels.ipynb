{
 "cells": [
  {
   "cell_type": "code",
   "execution_count": 1,
   "metadata": {},
   "outputs": [],
   "source": [
    "import tenseal.sealapi as seal\n",
    "import util"
   ]
  },
  {
   "cell_type": "markdown",
   "metadata": {},
   "source": [
    "In SEAL, 'parms_id' is the unique 256-bit hash identifier of the encryption paramters. When any of the parameters change, `parms_id` will change. \n",
    "\n",
    "When a SEALContext is created from a given EncryptionParameters instance, Microsoft SEAL automatically creates a so-called `modulus switching chain`, which is a chain of other encryption parameters derived from the original set. The parameters in the modulus switching chain are the same as the original parameters with the exception that size of the coefficient modulus is decreasing going down the chain. More precisely, each parameter set in the chain attempts to remove the last coefficient modulus prime from the previous set; this continues until the parameter set is no longer valid\n",
    "(e.g., `plain_modulus` is larger than the remaining `coeff_modulus`). It is easy to walk through the chain and access all the parameter sets. Additionally,\n",
    "each parameter set in the chain has a `chain index' that indicates its position in the chain so that the last set has index 0. We say that a set\n",
    "of encryption parameters, or an object carrying those encryption parameters, is at a higher level in the chain than another set of parameters if its the\n",
    "chain index is bigger, i.e., it is earlier in the chain.\n",
    "\n",
    "Each set of parameters in the chain involves unique pre-computations performed when the SEALContext is created, and stored in a `SEALContext::ContextData`\n",
    "object. The chain is basically a linked list of `SEALContext::ContextData` objects, and can easily be accessed through the SEALContext at any time. Each\n",
    "node can be identified by the parms_id of its specific encryption parameters (poly_modulus_degree remains the same but coeff_modulus varies).\n"
   ]
  },
  {
   "cell_type": "code",
   "execution_count": 2,
   "metadata": {},
   "outputs": [],
   "source": [
    "parms = seal.EncryptionParameters(seal.SCHEME_TYPE.BFV)\n",
    "poly_modulus_degree = 8192\n",
    "parms.set_poly_modulus_degree(poly_modulus_degree)"
   ]
  },
  {
   "cell_type": "markdown",
   "metadata": {},
   "source": [
    "In this example we use a custom coeff_modulus, consisting of 5 primes of sizes 50, 30, 30, 50, and 50 bits. Note that this is still OK according to the explanation in `1_bfv_basics.cpp`. Indeed, `CoeffModulus::MaxBitCount(poly_modulus_degree)` returns 218 (greater than 50+30+30+50+50=210).\n",
    "Due to the modulus switching chain, the order of the 5 primes is significant. The last prime has a special meaning and we call it the `special prime'. Thus, the first parameter set in the modulus switching chain is the only one that involves the special prime. All key objects, such as SecretKey, are created at this highest level. All data objects, such as Ciphertext, can be only at lower levels. The special prime should be as large as the largest of the other primes in the coeff_modulus, although this is not a strict requirement."
   ]
  },
  {
   "cell_type": "code",
   "execution_count": 8,
   "metadata": {},
   "outputs": [
    {
     "name": "stdout",
     "output_type": "stream",
     "text": [
      "Max bit count: 218\n",
      "/\n",
      "| Encryption parameters: \n",
      "|    scheme: BFV\n",
      "|    poly_modulus_degree: 8192\n",
      "|    coeff_modulus_size: 210 (50 30 30 50 50) bits\n",
      "|    plain_modulus: 1032193\n"
     ]
    }
   ],
   "source": [
    "print(\"Max bit count: \" + str(seal.CoeffModulus.MaxBitCount(poly_modulus_degree, seal.SEC_LEVEL_TYPE.TC128)))\n",
    "\n",
    "parms.set_coeff_modulus(seal.CoeffModulus.Create(poly_modulus_degree, [50, 30, 30, 50, 50]))\n",
    "parms.set_plain_modulus(seal.PlainModulus.Batching(poly_modulus_degree, 20))\n",
    "\n",
    "context = seal.SEALContext(parms, True, seal.SEC_LEVEL_TYPE.TC128)\n",
    "util.print_parameters(context)"
   ]
  },
  {
   "cell_type": "markdown",
   "metadata": {},
   "source": [
    "There are convenience method for accessing the SEALContext::ContextData for some of the most important levels:\n",
    "\n",
    "- SEALContext::key_context_data(): access to key level ContextData \n",
    "- SEALContext::first_context_data(): access to highest data level ContextData\n",
    "- SEALContext::last_context_data(): access to lowest level ContextData\n",
    "\n",
    "We iterate over the chain and print the parms_id for each set of parameters."
   ]
  },
  {
   "cell_type": "code",
   "execution_count": 16,
   "metadata": {},
   "outputs": [
    {
     "name": "stdout",
     "output_type": "stream",
     "text": [
      "---> Level (chain index): 4 .... key_context_data()\n",
      "\tparms_id: [2796926214238341906, 7385196832706630708, 1778331432907072121, 9574839751679865602]\n",
      "\tcoeff_modulus primes: 1125899905744897 1073643521 1073692673 1125899906629633 1125899906826241 "
     ]
    }
   ],
   "source": [
    "context_data = context.key_context_data()\n",
    "print(\"---> Level (chain index): \" + str(context_data.chain_index()), end=' ')\n",
    "print(\".... key_context_data()\")\n",
    "\n",
    "print(\"\\tparms_id: \" + str(context_data.parms_id()))\n",
    "\n",
    "print(\"\\tcoeff_modulus primes: \", end = '')\n",
    "for prime in context_data.parms().coeff_modulus():\n",
    "    print(prime.value(), end = ' ')\n",
    "    "
   ]
  },
  {
   "cell_type": "markdown",
   "metadata": {},
   "source": [
    "Now, look at the remaining (data) levels."
   ]
  },
  {
   "cell_type": "code",
   "execution_count": 17,
   "metadata": {},
   "outputs": [
    {
     "name": "stdout",
     "output_type": "stream",
     "text": [
      "Level (chain index): 3.... first_context_data(\n",
      "\tparms_id: [2386594185047272216, 3177129986462177089, 5264335169243394227, 3608211254040463884]\n",
      "\tcoeff_modulus primes: 1125899905744897 1073643521 1073692673 1125899906629633 \\ \n",
      "\\-->\n",
      "Level (chain index): 2\n",
      "\tparms_id: [9611362035343820607, 16250750482064473934, 11666325943188447289, 11197906540159540193]\n",
      "\tcoeff_modulus primes: 1125899905744897 1073643521 1073692673 \\ \n",
      "\\-->\n",
      "Level (chain index): 1\n",
      "\tparms_id: [8338375294373729721, 6255090713888968186, 9221042086196212239, 13262945982911515329]\n",
      "\tcoeff_modulus primes: 1125899905744897 1073643521 \\ \n",
      "\\-->\n",
      "Level (chain index): 0.... last_context_data()\n",
      "\tparms_id: [12645946865612918007, 3410116064097512307, 265341692546732382, 11895432757488484810]\n",
      "\tcoeff_modulus primes: 1125899905744897 \\ \n",
      "\\-->\n",
      "End of chain reached.\n"
     ]
    }
   ],
   "source": [
    "context_data = context.first_context_data()\n",
    "\n",
    "while context_data:\n",
    "    print(\"Level (chain index): \" + str(context_data.chain_index()), end='')\n",
    "    if context_data.parms_id()==context.first_parms_id():\n",
    "        print(\".... first_context_data(\")\n",
    "    elif context_data.parms_id() == context.last_parms_id():\n",
    "        print(\".... last_context_data()\")\n",
    "    else:\n",
    "        print(\"\")\n",
    "    \n",
    "    print(\"\\tparms_id: \" + str(context_data.parms_id()))\n",
    "    print(\"\\tcoeff_modulus primes: \", end='')\n",
    "    for prime in context_data.parms().coeff_modulus():\n",
    "        print(prime.value(), end=' ')\n",
    "    print(\"\\\\ \")\n",
    "    print(\"\\\\-->\")\n",
    "\n",
    "    context_data = context_data.next_context_data()\n",
    "\n",
    "print(\"End of chain reached.\")"
   ]
  },
  {
   "cell_type": "markdown",
   "metadata": {},
   "source": [
    "Create some keys and check that they appear at the highest level."
   ]
  },
  {
   "cell_type": "code",
   "execution_count": 19,
   "metadata": {},
   "outputs": [
    {
     "name": "stdout",
     "output_type": "stream",
     "text": [
      "Print the parameter IDs of generated elements.\n",
      "\t+ public_key: [2796926214238341906, 7385196832706630708, 1778331432907072121, 9574839751679865602]\n",
      "\t+ secret_key: [2796926214238341906, 7385196832706630708, 1778331432907072121, 9574839751679865602]\n",
      "\t+ relin_key: [2796926214238341906, 7385196832706630708, 1778331432907072121, 9574839751679865602]\n"
     ]
    }
   ],
   "source": [
    "keygen = seal.KeyGenerator(context)\n",
    "secret_key = keygen.secret_key()\n",
    "\n",
    "public_key = seal.PublicKey()\n",
    "keygen.create_public_key(public_key)\n",
    "\n",
    "relin_keys = seal.RelinKeys()\n",
    "keygen.create_relin_keys(relin_keys)\n",
    "\n",
    "print( \"Print the parameter IDs of generated elements.\")\n",
    "print(\"\\t+ public_key: \" + str(public_key.parms_id()))\n",
    "print(\"\\t+ secret_key: \" + str(secret_key.parms_id()))\n",
    "print(\"\\t+ relin_key: \" + str(relin_keys.parms_id()))"
   ]
  },
  {
   "cell_type": "markdown",
   "metadata": {},
   "source": [
    "Create `encryptor`, `evaluator`, and `decryptor`."
   ]
  },
  {
   "cell_type": "code",
   "execution_count": 21,
   "metadata": {},
   "outputs": [],
   "source": [
    "encryptor = seal.Encryptor(context, public_key)\n",
    "evaluator = seal.Evaluator(context)\n",
    "decryptor = seal.Decryptor(context, secret_key)"
   ]
  },
  {
   "cell_type": "code",
   "execution_count": 33,
   "metadata": {},
   "outputs": [
    {
     "name": "stdout",
     "output_type": "stream",
     "text": [
      "\t+ plain: [0, 0, 0, 0]\n",
      "\t+ encrypted: [2386594185047272216, 3177129986462177089, 5264335169243394227, 3608211254040463884]\n"
     ]
    }
   ],
   "source": [
    "plain = seal.Plaintext(\"1x^3 + 2x^2 + 3x^1 + 4\")\n",
    "encrypted = seal.Ciphertext()\n",
    "encryptor.encrypt(plain, encrypted)\n",
    "print(\"\\t+ plain: \" + str(plain.parms_id()))\n",
    "print(\"\\t+ encrypted: \" + str(encrypted.parms_id()))"
   ]
  },
  {
   "cell_type": "markdown",
   "metadata": {},
   "source": [
    "`Modulus switching`is used to change ciphertext parameters down in the chain. `Evaluator::mod_switch_to_next` always switches to the next level down the chain, whereas `Evaluator::mod_switch_to` switches to a parameter set down the chain corresponding to a given `parms_id`. However, it is impossible to switch up in the chain."
   ]
  },
  {
   "cell_type": "code",
   "execution_count": 34,
   "metadata": {},
   "outputs": [
    {
     "name": "stdout",
     "output_type": "stream",
     "text": [
      "Perform modulus switching on encrypted and print.\n",
      "--->\n",
      "Level (chain index): 3\n",
      "\tparms_id of encrypted: [2386594185047272216, 3177129986462177089, 5264335169243394227, 3608211254040463884]\n",
      "\tNoise budget at this level: 132 bits\n",
      "\\\n",
      "\\-->\n",
      "Level (chain index): 2\n",
      "\tparms_id of encrypted: [9611362035343820607, 16250750482064473934, 11666325943188447289, 11197906540159540193]\n",
      "\tNoise budget at this level: 82 bits\n",
      "\\\n",
      "\\-->\n",
      "Level (chain index): 1\n",
      "\tparms_id of encrypted: [8338375294373729721, 6255090713888968186, 9221042086196212239, 13262945982911515329]\n",
      "\tNoise budget at this level: 52 bits\n",
      "\\\n",
      "\\-->\n",
      "Level (chain index): 0\n",
      "\tparms_id of encrypted: [12645946865612918007, 3410116064097512307, 265341692546732382, 11895432757488484810]\n",
      "\tNoise budget at this level: 22 bits\n",
      "\\\n",
      "\\-->\n",
      "End of chain reached. \n"
     ]
    }
   ],
   "source": [
    "print(\"Perform modulus switching on encrypted and print.\")\n",
    "context_data = context.first_context_data()\n",
    "print(\"--->\")\n",
    "while context_data.next_context_dat]a():\n",
    "    print(\"Level (chain index): \" + str(context_data.chain_index()))\n",
    "    print(\"\\tparms_id of encrypted: \" + str(encrypted.parms_id()))\n",
    "    print(\"\\tNoise budget at this level: \" + str(decryptor.invariant_noise_budget(encrypted)) + \" bits\")\n",
    "    print(\"\\\\\")\n",
    "    print(\"\\\\-->\")\n",
    "    evaluator.mod_switch_to_next_inplace(encrypted)\n",
    "    context_data = context_data.next_context_data()\n",
    "\n",
    "print(\"Level (chain index): \" + str(context_data.chain_index()))\n",
    "print(\"\\tparms_id of encrypted: \" + str(encrypted.parms_id()))\n",
    "print(\"\\tNoise budget at this level: \" + str(decryptor.invariant_noise_budget(encrypted)) + \" bits\")\n",
    "print(\"\\\\\")\n",
    "print(\"\\\\-->\")\n",
    "print(\"End of chain reached. \")"
   ]
  },
  {
   "cell_type": "code",
   "execution_count": 36,
   "metadata": {},
   "outputs": [
    {
     "name": "stdout",
     "output_type": "stream",
     "text": [
      "Decrypt still works after modulus switching.\n",
      "\t+ Decryption of encrypted: 1x^3 + 2x^2 + 3x^1 + 4.... Correct\n"
     ]
    }
   ],
   "source": [
    "print(\"Decrypt still works after modulus switching.\")\n",
    "decryptor.decrypt(encrypted, plain)\n",
    "print(\"\\t+ Decryption of encrypted: \" + plain.to_string() +  \".... Correct\")"
   ]
  },
  {
   "cell_type": "code",
   "execution_count": 37,
   "metadata": {},
   "outputs": [
    {
     "name": "stdout",
     "output_type": "stream",
     "text": [
      "Computation is more efficient with modulus switching.\n",
      "Compute the 8th power. \n",
      "\t+ Noise budget fresh: 132 bits\n",
      "\t+ Noise budget of 2nd power: 100 bits\n",
      "\t+ Noise budget of the 4th power: 67 bits\n",
      "\t+ Noise budget after modulus switching: 67 bits\n"
     ]
    }
   ],
   "source": [
    "print(\"Computation is more efficient with modulus switching.\")\n",
    "print(\"Compute the 8th power. \")\n",
    "encryptor.encrypt(plain, encrypted)\n",
    "print(\"\\t+ Noise budget fresh: \" + str(decryptor.invariant_noise_budget(encrypted)) + \" bits\")\n",
    "evaluator.square_inplace(encrypted)\n",
    "evaluator.relinearize_inplace(encrypted, relin_keys)\n",
    "print(\"\\t+ Noise budget of 2nd power: \" + str(decryptor.invariant_noise_budget(encrypted)) + \" bits\")\n",
    "evaluator.square_inplace(encrypted)\n",
    "evaluator.relinearize_inplace(encrypted, relin_keys)\n",
    "print(\"\\t+ Noise budget of the 4th power: \" + str(decryptor.invariant_noise_budget(encrypted)) + \" bits\")\n",
    "\n",
    "evaluator.mod_switch_to_next_inplace(encrypted)\n",
    "print(\"\\t+ Noise budget after modulus switching: \" + str(decryptor.invariant_noise_budget(encrypted)) + \" bits\")"
   ]
  },
  {
   "cell_type": "code",
   "execution_count": 38,
   "metadata": {},
   "outputs": [
    {
     "name": "stdout",
     "output_type": "stream",
     "text": [
      "\t+ Noise budget of the 8th power: 34 bits\n",
      "\t+Noise budget after modulus switching: 34 bits\n",
      "\t+Decryption of the 8th power (hexadecimal) .... Correct.\n",
      "\t1x^24 + 10x^23 + 88x^22 + 330x^21 + EFCx^20 + 3A30x^19 + C0B8x^18 + 22BB0x^17 + 58666x^16 + C88D0x^15 + 9C377x^14 + F4C0Ex^13 + E8B38x^12 + 5EE89x^11 + F8BFFx^10 + 30304x^9 + 5B9D4x^8 + 12653x^7 + 4DFB5x^6 + 879F8x^5 + 825FBx^4 + F1FFEx^3 + 3FFFFx^2 + 60000x^1 + 10000\n"
     ]
    }
   ],
   "source": [
    "evaluator.square_inplace(encrypted)\n",
    "evaluator.relinearize_inplace(encrypted, relin_keys)\n",
    "print(\"\\t+ Noise budget of the 8th power: \" + str(decryptor.invariant_noise_budget(encrypted)) + \" bits\")\n",
    "evaluator.mod_switch_to_next_inplace(encrypted)\n",
    "print(\"\\t+Noise budget after modulus switching: \" + str(decryptor.invariant_noise_budget(encrypted)) + \" bits\")\n",
    "decryptor.decrypt(encrypted, plain)\n",
    "print(\"\\t+Decryption of the 8th power (hexadecimal) .... Correct.\")\n",
    "print(\"\\t\" + plain.to_string())"
   ]
  },
  {
   "cell_type": "code",
   "execution_count": null,
   "metadata": {},
   "outputs": [],
   "source": []
  }
 ],
 "metadata": {
  "kernelspec": {
   "display_name": "Python 3.9.7 ('secure-ml-venv')",
   "language": "python",
   "name": "python3"
  },
  "language_info": {
   "codemirror_mode": {
    "name": "ipython",
    "version": 3
   },
   "file_extension": ".py",
   "mimetype": "text/x-python",
   "name": "python",
   "nbconvert_exporter": "python",
   "pygments_lexer": "ipython3",
   "version": "3.9.7"
  },
  "orig_nbformat": 4,
  "vscode": {
   "interpreter": {
    "hash": "51a1eaa9f94a8055b5f69fda38d5e2c63385f357b8ace33bd7f635ff4a855d53"
   }
  }
 },
 "nbformat": 4,
 "nbformat_minor": 2
}
