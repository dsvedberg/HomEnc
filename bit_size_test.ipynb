{
 "cells": [
  {
   "cell_type": "code",
   "execution_count": 5,
   "metadata": {},
   "outputs": [],
   "source": [
    "import tenseal.sealapi as seal\n",
    "import util\n",
    "from math import log2, ceil"
   ]
  },
  {
   "cell_type": "code",
   "execution_count": 6,
   "metadata": {},
   "outputs": [
    {
     "name": "stdout",
     "output_type": "stream",
     "text": [
      "/\n",
      "|Encryption parameters: \n",
      "|\tscheme: CKKS\n",
      "|\tpoly_modulus_degree: 8192\n",
      "|\tcoeff_modulus_size: 110 (50 60) bits\n",
      "|\tMax Bit Count: 218\n"
     ]
    }
   ],
   "source": [
    "parms = seal.EncryptionParameters(seal.SCHEME_TYPE.CKKS)\n",
    "poly_modulus_degree = 2**13\n",
    "\n",
    "bit_size = 50\n",
    "\n",
    "mod_chain = [bit_size, 60]\n",
    "\n",
    "parms.set_poly_modulus_degree(poly_modulus_degree)\n",
    "parms.set_coeff_modulus(seal.CoeffModulus.Create(poly_modulus_degree, mod_chain))\n",
    "scale = pow(2, 46)\n",
    "\n",
    "context = seal.SEALContext(parms, True, seal.SEC_LEVEL_TYPE.TC128)\n",
    "util.print_parameters(context)\n"
   ]
  },
  {
   "cell_type": "code",
   "execution_count": 7,
   "metadata": {},
   "outputs": [],
   "source": [
    "keygen = seal.KeyGenerator(context)\n",
    "secret_key = keygen.secret_key()\n",
    "\n",
    "public_key = seal.PublicKey()\n",
    "keygen.create_public_key(public_key)\n",
    "\n",
    "encryptor = seal.Encryptor(context, public_key)\n",
    "evaluator = seal.Evaluator(context)\n",
    "decryptor = seal.Decryptor(context, secret_key)\n",
    "\n",
    "encoder = seal.CKKSEncoder(context)"
   ]
  },
  {
   "cell_type": "code",
   "execution_count": 8,
   "metadata": {},
   "outputs": [
    {
     "name": "stdout",
     "output_type": "stream",
     "text": [
      "coeff_bit_count: 49.584962500721154 total_coeff_modulus_bit_count: 50\n",
      "coeff_bit_count >= total_coeff_modulus_bit_count: False\n"
     ]
    }
   ],
   "source": [
    "x = 3\n",
    "x_plain = seal.Plaintext()\n",
    "encoder.encode(x, scale, x_plain)\n",
    "\n",
    "# This is the check for overflow that is done in Microsoft SEAL. \n",
    "coeff_bit_count = log2(abs(x*scale))+2\n",
    "coeff_modulus_bit_count = context.get_context_data(x_plain.parms_id()).total_coeff_modulus_bit_count()\n",
    "print(f\"coeff_bit_count: {coeff_bit_count}\", end = \" \")\n",
    "print(f\"total_coeff_modulus_bit_count: {coeff_modulus_bit_count}\")\n",
    "print(f\"coeff_bit_count >= total_coeff_modulus_bit_count: {coeff_bit_count>=coeff_modulus_bit_count}\")\n",
    "\n",
    "x_enc = seal.Ciphertext()\n",
    "encryptor.encrypt(x_plain, x_enc)"
   ]
  },
  {
   "cell_type": "code",
   "execution_count": 9,
   "metadata": {},
   "outputs": [
    {
     "name": "stdout",
     "output_type": "stream",
     "text": [
      "With log2(scale):46.0 and bit_size:50, the\n",
      "\tdecrypted value is 2.999999999985655\n",
      "\tabsolute error was: 1.4344969656576723e-11\n"
     ]
    }
   ],
   "source": [
    "result = seal.Plaintext()\n",
    "\n",
    "decryptor.decrypt(x_enc, result)\n",
    "after_enc = encoder.decode_double(result)[0]\n",
    "error = abs(x-after_enc)\n",
    "print(f\"With log2(scale):{log2(scale)} and bit_size:{bit_size}, the\")\n",
    "print(f\"\\tdecrypted value is {after_enc}\")\n",
    "if error>0:\n",
    "    print(f\"\\tabsolute error was: {error}\")\n",
    "else:\n",
    "    print(\"\\terror is 0\")"
   ]
  },
  {
   "cell_type": "code",
   "execution_count": null,
   "metadata": {},
   "outputs": [],
   "source": []
  }
 ],
 "metadata": {
  "kernelspec": {
   "display_name": "Python 3.9.7 ('secure-ml-venv')",
   "language": "python",
   "name": "python3"
  },
  "language_info": {
   "codemirror_mode": {
    "name": "ipython",
    "version": 3
   },
   "file_extension": ".py",
   "mimetype": "text/x-python",
   "name": "python",
   "nbconvert_exporter": "python",
   "pygments_lexer": "ipython3",
   "version": "3.9.7"
  },
  "orig_nbformat": 4,
  "vscode": {
   "interpreter": {
    "hash": "51a1eaa9f94a8055b5f69fda38d5e2c63385f357b8ace33bd7f635ff4a855d53"
   }
  }
 },
 "nbformat": 4,
 "nbformat_minor": 2
}
